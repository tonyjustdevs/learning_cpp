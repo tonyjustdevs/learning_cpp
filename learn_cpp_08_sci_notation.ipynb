{
 "cells": [
  {
   "cell_type": "markdown",
   "id": "0e80e6e4",
   "metadata": {},
   "source": [
    "# 1. Scentific Notation\n",
    "To prepare for floating point programming in `c++`\n",
    "\n",
    "Assumptions:\n",
    "\n",
    "- Trailing zeros in a whole number with no decimal are not significant"
   ]
  },
  {
   "cell_type": "markdown",
   "id": "24a1e232",
   "metadata": {},
   "source": [
    "# 2. Form \n",
    "- $[significand]*10^{exponent}$"
   ]
  },
  {
   "cell_type": "markdown",
   "id": "a5bf334b",
   "metadata": {},
   "source": [
    "### 2.1 **Positive Exponent** for larger numbers: \n",
    "- $1.2 \\times 10^{4}:$\n",
    "    - = $12,000$ since ($10^{4}=10,000$)\n",
    "        - $1.2$ is the $significand$\n",
    "        - $4$ is the $exponent$\n",
    "    - using $e$:\n",
    "        - = $1.2e4$"
   ]
  },
  {
   "cell_type": "markdown",
   "id": "464718d5",
   "metadata": {},
   "source": [
    "### 2.2 **Negative Exponent** for numbers smaller than 1: \n",
    "- $5e^{-2}$\n",
    "    - = $5 / (10^{2})$\n",
    "    - = $5 / (100)$\n",
    "    - = $0.05$"
   ]
  },
  {
   "cell_type": "markdown",
   "id": "9eec54f1",
   "metadata": {},
   "source": [
    "# 3. Significant Digits\n",
    "**Significant Digits** are the digits before the $e$."
   ]
  },
  {
   "cell_type": "markdown",
   "id": "42bd5cb5",
   "metadata": {},
   "source": [
    "### 3.1 Problem 1: $600.410$\n",
    "\n",
    "- $600.410e0$\n",
    "- $60.0410e1$\n",
    "- $6.00410e2$ \n",
    "- $6.0041e2 \\ [Wrong!]$ \n",
    "- $6.00410e2$\n",
    "    - $6$ significant figures, numbers before $e$.\n",
    "\n",
    "Do not trim trailing zeros.   \n",
    "Only trim if there are no decimal places.  "
   ]
  },
  {
   "cell_type": "markdown",
   "id": "3ad9298c",
   "metadata": {},
   "source": [
    "### 3.2 Problem 2: $0.0078900$\n",
    "- $0.0078900e0$\n",
    "- $00.078900e-1$\n",
    "- $000.78900e-2$\n",
    "- $0007.8900e-3$\n",
    "- $7.8900e-3$"
   ]
  },
  {
   "cell_type": "markdown",
   "id": "f9355df3",
   "metadata": {},
   "source": [
    "### 3.3 Problem 3: $42030$\n",
    "- $42030e0$\n",
    "- $4203.0e1$\n",
    "- $420.30e2$\n",
    "- $42.030e3$\n",
    "- $4.203e4$\n",
    "    - 4 significant figures"
   ]
  },
  {
   "cell_type": "markdown",
   "id": "9cfc1e2f",
   "metadata": {},
   "source": [
    "### 3.4 Problem 4: $34.50$\n",
    "- $34.50e0$\n",
    "- $3.450e1$\n",
    "    - 4 sig figs"
   ]
  },
  {
   "cell_type": "markdown",
   "id": "ba54735e",
   "metadata": {},
   "source": [
    "### 3.5 Problem 5: $0.004000$\n",
    "- $0.004000e0$\n",
    "- $00.04000e-1$\n",
    "- $000.4000e-2$\n",
    "- $0004.000e-3$\n",
    "- $4.000e-3$\n",
    "    - 4 sig figs\n"
   ]
  },
  {
   "cell_type": "markdown",
   "id": "7a8d6b1e",
   "metadata": {},
   "source": [
    "### 3.6 Problem 6: $123.005$\n",
    "- $123.005e0$\n",
    "- $12.3005e1$\n",
    "- $1.23005e2$\n",
    "    - 6 sig figs\n"
   ]
  },
  {
   "cell_type": "markdown",
   "id": "1beb4304",
   "metadata": {},
   "source": [
    "### 3.7 Problem 7: $146000$\n",
    "- $146000e0$\n",
    "- $14600.0e1$\n",
    "- $1460.00e2$\n",
    "- $146.000e3$\n",
    "- $14.6000e4$\n",
    "- $1.46000e5$\n",
    "- $1.46e5$\n",
    "    - 3 sig figs\n"
   ]
  },
  {
   "cell_type": "markdown",
   "id": "db0f34f3",
   "metadata": {},
   "source": [
    "### 3.8 Problem 8: $146000.001$\n",
    "- $146000.001e0$\n",
    "- $14600.0001e1$\n",
    "- $1460.00001e2$\n",
    "- $146.000001e3$\n",
    "- $14.6000001e4$\n",
    "- $1.46000001e5$\n",
    "    - 10 sig figs\n"
   ]
  },
  {
   "cell_type": "markdown",
   "id": "448585b5",
   "metadata": {},
   "source": [
    "#### 3.9 Problem 9: $0.0000000008$\n",
    "- $0.0000000008e0$\n",
    "- $00.000000008e-1$\n",
    "- $000.00000008e-2$\n",
    "- $0000.0000008e-3$\n",
    "- $00000.000008e-4$\n",
    "- $000000.00008e-5$\n",
    "- $0000000.0008e-6$\n",
    "- $00000000.008e-7$\n",
    "- $000000000.08e-8$\n",
    "- $0000000000.8e-9$\n",
    "- $00000000008e-10$\n",
    "- $8e-10$\n",
    "    - 1 sig fig"
   ]
  },
  {
   "cell_type": "markdown",
   "id": "5e55a151",
   "metadata": {},
   "source": [
    "### 3.10 Problem 10: $34500.0$\n",
    "- $34500.0e0$\n",
    "- $3450.00e1$\n",
    "- $345.000e2$\n",
    "- $34.5000e3$\n",
    "- $3.45000e4$\n",
    "    - 6 sig fig"
   ]
  },
  {
   "cell_type": "markdown",
   "id": "ad069ff7",
   "metadata": {},
   "source": [
    "### 3.11 Problem 11: $146000$\n",
    "Assume knowledge that zeros are significant\n",
    "- $146000e0$\n",
    "- $14600.0e1$\n",
    "- $1460.00e2$\n",
    "- $146.000e3$\n",
    "- $14.6000e4$\n",
    "- $1.46000e5$\n",
    "    - 6 sig figs\n"
   ]
  },
  {
   "cell_type": "markdown",
   "id": "11584816",
   "metadata": {},
   "source": []
  },
  {
   "cell_type": "markdown",
   "id": "8dcabdc9",
   "metadata": {},
   "source": []
  },
  {
   "cell_type": "markdown",
   "id": "fbf782f3",
   "metadata": {},
   "source": []
  },
  {
   "cell_type": "markdown",
   "id": "fc4448df",
   "metadata": {},
   "source": []
  },
  {
   "cell_type": "markdown",
   "id": "90b0c4d5",
   "metadata": {},
   "source": []
  },
  {
   "cell_type": "markdown",
   "id": "847afa2a",
   "metadata": {},
   "source": []
  },
  {
   "cell_type": "markdown",
   "id": "45c7630e",
   "metadata": {},
   "source": []
  },
  {
   "cell_type": "markdown",
   "id": "fb7a7bad",
   "metadata": {},
   "source": []
  },
  {
   "cell_type": "markdown",
   "id": "17f7f644",
   "metadata": {},
   "source": []
  }
 ],
 "metadata": {
  "kernelspec": {
   "display_name": ".venv",
   "language": "python",
   "name": "python3"
  },
  "language_info": {
   "codemirror_mode": {
    "name": "ipython",
    "version": 3
   },
   "file_extension": ".py",
   "mimetype": "text/x-python",
   "name": "python",
   "nbconvert_exporter": "python",
   "pygments_lexer": "ipython3",
   "version": "3.12.3"
  }
 },
 "nbformat": 4,
 "nbformat_minor": 5
}
