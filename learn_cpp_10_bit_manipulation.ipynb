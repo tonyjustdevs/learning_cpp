{
 "cells": [
  {
   "cell_type": "markdown",
   "id": "bacaf1b8",
   "metadata": {},
   "source": []
  },
  {
   "cell_type": "markdown",
   "id": "72795468",
   "metadata": {},
   "source": []
  },
  {
   "cell_type": "markdown",
   "id": "7e09a930",
   "metadata": {},
   "source": []
  },
  {
   "cell_type": "markdown",
   "id": "cc76efbf",
   "metadata": {},
   "source": []
  },
  {
   "cell_type": "markdown",
   "id": "ca58418d",
   "metadata": {},
   "source": []
  },
  {
   "cell_type": "markdown",
   "id": "4613e696",
   "metadata": {},
   "source": [
    "# 1. Bit Stuff\n",
    "Reference: https://www.learncpp.com/cpp-tutorial/bitwise-operators/"
   ]
  },
  {
   "cell_type": "markdown",
   "id": "070ed93b",
   "metadata": {},
   "source": [
    "# 2. The Bitwise Operators\n",
    "C++ provides 6 bit manipulation operators, often called bitwise operators:\n",
    "\n",
    "|Operator\t    |Symbol\t    |Form\t            |The operation returns a value where:|\n",
    "|-|-|-|-|\n",
    "|left shift\t    |`<<`\t    |`x << n`\t        |the bits from x are shifted left by n positions, new bits are 0.|\n",
    "|right shift\t|`>>`\t    |`x >> n`\t        |the bits from x are shifted right by n positions, new bits are 0.|\n",
    "|bitwise NOT\t|`~`\t    |`~x`\t            |each bit from x is flipped.|\n",
    "|bitwise AND\t|`&`\t    |`x & y`\t        |each bit is set when both corresponding bits in x and y are 1.|\n",
    "|bitwise OR\t    |`\\|`\t    |`x \\| y`\t        |each bit is set when either corresponding bit in x and y is 1.|\n",
    "|bitwise XOR\t|`^`\t    |`x ^ y`\t        |each bit is set when the corresponding bits in x and y are different.|"
   ]
  },
  {
   "cell_type": "markdown",
   "id": "7317f3cb",
   "metadata": {},
   "source": [
    "# 3. Bitwise Left `<<` & Right Shift `>>`\n",
    "# 4. Input/Output Versus Bitwise L/R\n",
    "# 5. Bitwise NOT: `~`\n"
   ]
  },
  {
   "cell_type": "code",
   "execution_count": 21,
   "id": "9cc45843",
   "metadata": {},
   "outputs": [
    {
     "name": "stdout",
     "output_type": "stream",
     "text": [
      "pre-4-bit padding s: 0100\n",
      "pos-4-bit padding s: 0100\n",
      "Binary string: 0100\n",
      "As integer: 4\n",
      "Bitwise NOT: 1011 (integer: 11 )\n"
     ]
    }
   ],
   "source": [
    "# gpt\n",
    "s1               = \"0100\"  \n",
    "n_bits          = 4\n",
    "print(f\"pre-{n_bits}-bit padding s: {s1}\")\n",
    "s1               = s1.zfill(n_bits)\n",
    "print(f\"pos-{n_bits}-bit padding s: {s1}\")\n",
    "n1               = int(s1, 2)  # get value via binary\n",
    "bit_length      = len(s1)\n",
    "mask            = (1 << bit_length) - 1 # wip to learn\n",
    "not_n           = (~n1) & mask\n",
    "not_s           = bin(not_n)[2:].zfill(bit_length)\n",
    "print(\"Binary string:\", s1)\n",
    "print(\"As integer:\", n1)\n",
    "print(\"Bitwise NOT:\", not_s, \"(integer:\", not_n, \")\")\n",
    "# int(\"1011\",2)\n",
    "# int(\"11111011\",2)\n"
   ]
  },
  {
   "cell_type": "markdown",
   "id": "c013e986",
   "metadata": {},
   "source": [
    "# 6. Bitwise OR: `|`\n"
   ]
  },
  {
   "cell_type": "code",
   "execution_count": 20,
   "id": "26ea041f",
   "metadata": {},
   "outputs": [
    {
     "name": "stdout",
     "output_type": "stream",
     "text": [
      "pre-4-bit padding s1: 0101\n",
      "pos-4-bit padding s1: 0101\n",
      "pre-4-bit padding s2: 0110\n",
      "pos-4-bit padding s2: 0110\n",
      "n1|n2: 7 (aka Bitwise OR)\n",
      "0b111\n",
      "00000111\n",
      "0000000000000111\n"
     ]
    }
   ],
   "source": [
    "# gpt\n",
    "s1              = \"0101\"  \n",
    "s2              = \"0110\"  \n",
    "n_bits          = 4\n",
    "\n",
    "# s1\n",
    "print(f\"pre-{n_bits}-bit padding s1: {s1}\")\n",
    "s1              = s1.zfill(n_bits)\n",
    "print(f\"pos-{n_bits}-bit padding s1: {s1}\")\n",
    "\n",
    "# s2\n",
    "print(f\"pre-{n_bits}-bit padding s2: {s2}\")\n",
    "s2              = s2.zfill(n_bits)\n",
    "print(f\"pos-{n_bits}-bit padding s2: {s2}\")\n",
    "\n",
    "n1              = int(s1, 2) \n",
    "n2              = int(s2, 2) \n",
    "\n",
    "n1_or_n2        = n1|n2\n",
    "print(f\"n1|n2: {n1_or_n2} (aka Bitwise OR)\")\n",
    "n1_or_n2_bin_raw_str = bin(n1_or_n2)\n",
    "print(n1_or_n2_bin_raw_str)\n",
    "\n",
    "n1_or_n2_bin_08b_str =format(n1_or_n2,\"08b\")\n",
    "\n",
    "print(n1_or_n2_bin_08b_str)\n",
    "print(format(n1_or_n2,\"016b\"))"
   ]
  },
  {
   "cell_type": "markdown",
   "id": "502f5952",
   "metadata": {},
   "source": []
  },
  {
   "cell_type": "markdown",
   "id": "e7254989",
   "metadata": {},
   "source": []
  },
  {
   "cell_type": "markdown",
   "id": "c7d0da03",
   "metadata": {},
   "source": []
  },
  {
   "cell_type": "markdown",
   "id": "267766fa",
   "metadata": {},
   "source": []
  },
  {
   "cell_type": "markdown",
   "id": "eebe2385",
   "metadata": {},
   "source": []
  },
  {
   "cell_type": "markdown",
   "id": "3c0f4ab1",
   "metadata": {},
   "source": [
    "\n",
    "# 7. Bitwise AND: `&`\n",
    "\n",
    "# 8. Bitwise XOR: `^`\n",
    "Exclusive Or\n",
    "\n",
    "# 9. Bitwise Assignment Operators\n",
    "\n",
    "# 10. Integral Promotion on Smaller Integral Types [Advanced]\n"
   ]
  },
  {
   "cell_type": "markdown",
   "id": "b3a868a1",
   "metadata": {},
   "source": []
  },
  {
   "cell_type": "markdown",
   "id": "f233e208",
   "metadata": {},
   "source": []
  },
  {
   "cell_type": "markdown",
   "id": "d6d09bbb",
   "metadata": {},
   "source": []
  },
  {
   "cell_type": "markdown",
   "id": "2a7b7282",
   "metadata": {},
   "source": []
  },
  {
   "cell_type": "markdown",
   "id": "d3da562a",
   "metadata": {},
   "source": []
  },
  {
   "cell_type": "markdown",
   "id": "72425c84",
   "metadata": {},
   "source": []
  },
  {
   "cell_type": "markdown",
   "id": "6e7604d6",
   "metadata": {},
   "source": []
  },
  {
   "cell_type": "markdown",
   "id": "617fcfb5",
   "metadata": {},
   "source": []
  },
  {
   "cell_type": "markdown",
   "id": "f4d045f9",
   "metadata": {},
   "source": []
  },
  {
   "cell_type": "code",
   "execution_count": null,
   "id": "304864e3",
   "metadata": {},
   "outputs": [],
   "source": [
    "# int to bin\n",
    "# binary_str = bin(42)        # Returns '0b101010'\n",
    "# binary_str = format(42, 'b')    # no_padding '101010'\n",
    "# binary_str = format(42, '08b')  # 8b_padding '00101010' \n",
    "\n",
    "# bin to int\n",
    "bin_4bit_str = \"0100\"\n",
    "bin_8bit_str = bin_4bit_str.zfill(8)\n",
    "\n",
    "# bin_8bit_str\n",
    "int(bin_8bit_str,2)\n",
    "int_value = int(bin_4bit_str, 2)\n",
    "\n"
   ]
  },
  {
   "cell_type": "code",
   "execution_count": null,
   "id": "120a7c68",
   "metadata": {},
   "outputs": [
    {
     "data": {
      "text/plain": [
       "11"
      ]
     },
     "metadata": {},
     "output_type": "display_data"
    }
   ],
   "source": [
    "def bit_not(n, numbits=8):\n",
    "    return (1 << numbits) - 1 - n\n",
    "bit_not(4, numbits=4)"
   ]
  },
  {
   "cell_type": "markdown",
   "id": "5aa8b931",
   "metadata": {},
   "source": []
  },
  {
   "cell_type": "markdown",
   "id": "dfd12a4d",
   "metadata": {},
   "source": []
  },
  {
   "cell_type": "markdown",
   "id": "1cf9e412",
   "metadata": {},
   "source": []
  },
  {
   "cell_type": "markdown",
   "id": "e5661d1e",
   "metadata": {},
   "source": []
  },
  {
   "cell_type": "markdown",
   "id": "aa629771",
   "metadata": {},
   "source": []
  },
  {
   "cell_type": "markdown",
   "id": "3498bab2",
   "metadata": {},
   "source": []
  }
 ],
 "metadata": {
  "kernelspec": {
   "display_name": ".venv",
   "language": "python",
   "name": "python3"
  },
  "language_info": {
   "codemirror_mode": {
    "name": "ipython",
    "version": 3
   },
   "file_extension": ".py",
   "mimetype": "text/x-python",
   "name": "python",
   "nbconvert_exporter": "python",
   "pygments_lexer": "ipython3",
   "version": "3.12.3"
  }
 },
 "nbformat": 4,
 "nbformat_minor": 5
}
