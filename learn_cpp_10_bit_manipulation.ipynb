{
 "cells": [
  {
   "cell_type": "markdown",
   "id": "bacaf1b8",
   "metadata": {},
   "source": []
  },
  {
   "cell_type": "markdown",
   "id": "72795468",
   "metadata": {},
   "source": []
  },
  {
   "cell_type": "markdown",
   "id": "7e09a930",
   "metadata": {},
   "source": []
  },
  {
   "cell_type": "markdown",
   "id": "cc76efbf",
   "metadata": {},
   "source": []
  },
  {
   "cell_type": "markdown",
   "id": "ca58418d",
   "metadata": {},
   "source": []
  },
  {
   "cell_type": "markdown",
   "id": "4613e696",
   "metadata": {},
   "source": [
    "# 1. Bit Stuff\n",
    "Reference: https://www.learncpp.com/cpp-tutorial/bitwise-operators/"
   ]
  },
  {
   "cell_type": "markdown",
   "id": "070ed93b",
   "metadata": {},
   "source": [
    "# 2. The Bitwise Operators\n",
    "C++ provides 6 bit manipulation operators, often called bitwise operators:\n",
    "\n",
    "|Operator\t    |Symbol\t    |Form\t            |The operation returns a value where:|\n",
    "|-|-|-|-|\n",
    "|left shift\t    |`<<`\t    |`x << n`\t        |the bits from x are shifted left by n positions, new bits are 0.|\n",
    "|right shift\t|`>>`\t    |`x >> n`\t        |the bits from x are shifted right by n positions, new bits are 0.|\n",
    "|bitwise NOT\t|`~`\t    |`~x`\t            |each bit from x is flipped.|\n",
    "|bitwise AND\t|`&`\t    |`x & y`\t        |each bit is set when both corresponding bits in x and y are 1.|\n",
    "|bitwise OR\t    |`\\|`\t    |`x \\| y`\t        |each bit is set when either corresponding bit in x and y is 1.|\n",
    "|bitwise XOR\t|`^`\t    |`x ^ y`\t        |each bit is set when the corresponding bits in x and y are different.|"
   ]
  },
  {
   "cell_type": "markdown",
   "id": "3c0f4ab1",
   "metadata": {},
   "source": [
    "# 3. Bitwise Left `<<` & Right Shift `>>`\n",
    "\n",
    "# 4. Input/Output Versus Bitwise L/R\n",
    "\n",
    "# 5. Bitwise NOT: `~`\n",
    "\n",
    "# 6. Bitwise OR: `|`\n",
    "\n",
    "# 7. Bitwise AND: `&`\n",
    "\n",
    "# 8. Bitwise XOR: `^`\n",
    "Exclusive Or\n",
    "\n",
    "# 9. Bitwise Assignment Operators\n",
    "\n",
    "# 10. Integral Promotion on Smaller Integral Types [Advanced]\n"
   ]
  },
  {
   "cell_type": "markdown",
   "id": "b3a868a1",
   "metadata": {},
   "source": []
  },
  {
   "cell_type": "markdown",
   "id": "f233e208",
   "metadata": {},
   "source": []
  },
  {
   "cell_type": "markdown",
   "id": "d6d09bbb",
   "metadata": {},
   "source": []
  },
  {
   "cell_type": "markdown",
   "id": "2a7b7282",
   "metadata": {},
   "source": []
  },
  {
   "cell_type": "markdown",
   "id": "d3da562a",
   "metadata": {},
   "source": []
  },
  {
   "cell_type": "markdown",
   "id": "72425c84",
   "metadata": {},
   "source": []
  },
  {
   "cell_type": "markdown",
   "id": "6e7604d6",
   "metadata": {},
   "source": []
  },
  {
   "cell_type": "markdown",
   "id": "617fcfb5",
   "metadata": {},
   "source": []
  },
  {
   "cell_type": "markdown",
   "id": "f4d045f9",
   "metadata": {},
   "source": []
  },
  {
   "cell_type": "markdown",
   "id": "5aa8b931",
   "metadata": {},
   "source": []
  },
  {
   "cell_type": "markdown",
   "id": "dfd12a4d",
   "metadata": {},
   "source": []
  },
  {
   "cell_type": "markdown",
   "id": "1cf9e412",
   "metadata": {},
   "source": []
  },
  {
   "cell_type": "markdown",
   "id": "e5661d1e",
   "metadata": {},
   "source": []
  },
  {
   "cell_type": "markdown",
   "id": "aa629771",
   "metadata": {},
   "source": []
  },
  {
   "cell_type": "markdown",
   "id": "3498bab2",
   "metadata": {},
   "source": []
  }
 ],
 "metadata": {
  "kernelspec": {
   "display_name": ".venv",
   "language": "python",
   "name": "python3"
  },
  "language_info": {
   "codemirror_mode": {
    "name": "ipython",
    "version": 3
   },
   "file_extension": ".py",
   "mimetype": "text/x-python",
   "name": "python",
   "nbconvert_exporter": "python",
   "pygments_lexer": "ipython3",
   "version": "3.12.3"
  }
 },
 "nbformat": 4,
 "nbformat_minor": 5
}
