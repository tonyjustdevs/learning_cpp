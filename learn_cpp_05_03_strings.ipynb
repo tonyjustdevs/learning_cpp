{
 "cells": [
  {
   "cell_type": "markdown",
   "id": "d9bda29b",
   "metadata": {},
   "source": [
    "# Strings with `std::strings`"
   ]
  },
  {
   "cell_type": "markdown",
   "id": "24abe5d2",
   "metadata": {},
   "source": [
    "# 1. `getline(std::cin>>std::ws, variable_name)`\n",
    "Input manipulator telling `std::cin`:\n",
    "\n",
    "- ignore any Leading Whitespace before extraction\n",
    "- Leading whitespace is any whitespace character (spaces, tabs, newlines) that occur at the start of the string."
   ]
  },
  {
   "cell_type": "markdown",
   "id": "3654fd57",
   "metadata": {},
   "source": [
    "# 2. Length \n",
    "`name.length()`:\n",
    "\n",
    "- `length()` is not a normal standalone function \n",
    "- it is special type of function that is nested within `std::string` called a **member function**.\n",
    "- sometimes written as `std::string::length()` in documentation.\n",
    "- assign the length to an int variable to avoid compiler warnings about unsigned/signed conversions.\n",
    "    - `int length { static_cast<int>(name.length()) }`;\n",
    "\n",
    "# 3. Normal Functions vs Member Functions\n",
    "**normal functions**: `function(object)`   \n",
    "**member functions**: `object.function()`  "
   ]
  },
  {
   "cell_type": "markdown",
   "id": "101bb0e8",
   "metadata": {},
   "source": [
    "# 4. Process Flow of Object Instantiation\n",
    "- Object is instantiated\n",
    "- Memory is allocated for that object\n",
    "    - To store data (used by object)\n",
    "    - This memory is reserved for the object\n",
    "    - Guaranteed to exist for objects lifetime\n",
    "- `std::string` copies the **initialisation value** provided \n",
    "    - into memory\n",
    "    - have its own independent value (to access/modify)\n",
    "    - one copied, object ***no longer reliant*** on **initialiser**.\n",
    "        - **initialiser** cant be trusted after initialisation completed."
   ]
  },
  {
   "cell_type": "markdown",
   "id": "5fcf10ee",
   "metadata": {},
   "source": [
    "## 4.1 Initialisation as a Function Call\n",
    "Imagine a function call that initialises the object:\n",
    "- \"who\" passes the initialiser? the **caller**.\n",
    "- when initialisation is done, control returns to caller then either:\n",
    "    - if initialiser was temp value/object, it is destroyed immediately.\n",
    "    - if initialiser was a variable, caller still has access  to object. caller can what it wants to object (modify/destroy).\n",
    "- since `std::string` makes its own copy of initialiser, \n",
    "    - **STRESS FREE**: it doesnt worry what happens to the initialiser after initialisation.\n",
    "    - **BUT COSTLY**: the independence comes with the cost of making an expensie copy."
   ]
  },
  {
   "cell_type": "markdown",
   "id": "ca6be0e4",
   "metadata": {},
   "source": [
    "## 4.2 `std::string` is owner\n",
    "It is responsible for:\n",
    "- acquiring string data from initialiser\n",
    "- managing access to string data\n",
    "- properly diposing string data when `std::string` object is destroyed\n"
   ]
  },
  {
   "cell_type": "markdown",
   "id": "b2d66f52",
   "metadata": {},
   "source": [
    "# 4.3 \"Using\" vs \"Copying\" String\n",
    "- Could `s` be destroyed while `str` is still using it?\n",
    "- Could `s` be modified while `str` is still using it? \n",
    "- Does  `str` modify the string in some way that the caller would not expect?\n",
    "\n",
    "If all `False`, there is no risk in using string instead of copying it.\n"
   ]
  },
  {
   "cell_type": "markdown",
   "id": "12b7a422",
   "metadata": {},
   "source": [
    "## 4.4 `std::string_view` is a **viewer**\n",
    "\n",
    "|object|what does it do|can/cannot|misc|\n",
    "|-|-|-|-|\n",
    "|std::string |makes ***expensive*** `copy` of initialisation string|- can view+modify||\n",
    "|std::string_view |makes ***inexpensive*** `view` of initialisation string|- can view<br>- **cannot** modify|- view destory -> object unaffected<br>- multiple viewers veiwing object simulataneously is fine<br>- view ***dependent*** on initialiser<br>- **dangling view**: viewing a string thats been destroyed (undefined behaviour)|"
   ]
  },
  {
   "cell_type": "markdown",
   "id": "de9aba0b",
   "metadata": {},
   "source": [
    "## 4.5 [Convention] `std::string_view` as Read-Only Function Parameter\n",
    "Allows us pass a:\n",
    "- `C-style` string or\n",
    "- `std::string` or\n",
    "- `std::string_view` argument without making a copy\n",
    "\n",
    "the `std::string_view` typing will create a view of the argument\n",
    "\n"
   ]
  },
  {
   "cell_type": "markdown",
   "id": "ebcec1d3",
   "metadata": {},
   "source": []
  },
  {
   "cell_type": "markdown",
   "id": "aced33da",
   "metadata": {},
   "source": []
  },
  {
   "cell_type": "markdown",
   "id": "f62f2a7e",
   "metadata": {},
   "source": []
  },
  {
   "cell_type": "markdown",
   "id": "e3e4acba",
   "metadata": {},
   "source": []
  },
  {
   "cell_type": "markdown",
   "id": "7c3c256b",
   "metadata": {},
   "source": []
  },
  {
   "cell_type": "markdown",
   "id": "e28c2914",
   "metadata": {},
   "source": []
  },
  {
   "cell_type": "markdown",
   "id": "278fb3f5",
   "metadata": {},
   "source": []
  },
  {
   "cell_type": "markdown",
   "id": "d1ebd1aa",
   "metadata": {},
   "source": []
  },
  {
   "cell_type": "markdown",
   "id": "42ba5868",
   "metadata": {},
   "source": []
  },
  {
   "cell_type": "markdown",
   "id": "784f7eff",
   "metadata": {},
   "source": []
  },
  {
   "cell_type": "markdown",
   "id": "f40d690c",
   "metadata": {},
   "source": []
  },
  {
   "cell_type": "markdown",
   "id": "8c3f3d2a",
   "metadata": {},
   "source": []
  }
 ],
 "metadata": {
  "kernelspec": {
   "display_name": ".venv",
   "language": "python",
   "name": "python3"
  },
  "language_info": {
   "name": "python",
   "version": "3.12.3"
  }
 },
 "nbformat": 4,
 "nbformat_minor": 5
}
