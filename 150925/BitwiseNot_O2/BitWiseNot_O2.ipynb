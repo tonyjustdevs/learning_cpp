{
 "cells": [
  {
   "cell_type": "markdown",
   "id": "17f86318",
   "metadata": {},
   "source": [
    "# Bitwise NOT Validation"
   ]
  },
  {
   "cell_type": "markdown",
   "id": "2d69a6ea",
   "metadata": {},
   "source": [
    "# 2. `0101`: $4$-Bit and **Bitwise NOT** (`~`)"
   ]
  },
  {
   "cell_type": "code",
   "execution_count": null,
   "id": "22e8e848",
   "metadata": {},
   "outputs": [
    {
     "name": "stdout",
     "output_type": "stream",
     "text": [
      "pre-4-bit padding s: 0100\n",
      "pos-4-bit padding s: 0100\n",
      "Binary string: 0100\n",
      "As integer: 4\n",
      "Bitwise NOT: 1011 (integer: 11 )\n"
     ]
    }
   ],
   "source": [
    "s               = \"0100\" # raw binary string\n",
    "n_bits          = 4\n",
    "print(f\"pre-{n_bits}-bit padding s: {s}\")\n",
    "s               = s.zfill(n_bits)\n",
    "print(f\"pos-{n_bits}-bit padding s: {s}\")\n",
    "n               = int(s, 2)  # get value via binary\n",
    "bit_length      = len(s)\n",
    "mask            = (1 << bit_length) - 1 # wip to learn\n",
    "not_n           = (~n) & mask\n",
    "not_s           = bin(not_n)[2:].zfill(bit_length)\n",
    "print(\"Binary string:\", s)\n",
    "print(\"As integer:\", n)\n",
    "print(\"Bitwise NOT:\", not_s, \"(integer:\", not_n, \")\")\n"
   ]
  },
  {
   "cell_type": "markdown",
   "id": "b99c5217",
   "metadata": {},
   "source": [
    "# 2. `0101`: $8$-Bit and **Bitwise NOT** (`~`)`"
   ]
  },
  {
   "cell_type": "code",
   "execution_count": null,
   "id": "69ad846e",
   "metadata": {},
   "outputs": [],
   "source": [
    "s               = \"0100\" # raw binary string\n",
    "n_bits          = 8\n",
    "print(f\"pre-{n_bits}-bit padding s: {s}\")\n",
    "s               = s.zfill(n_bits)\n",
    "print(f\"pos-{n_bits}-bit padding s: {s}\")\n",
    "n               = int(s, 2)  # get value via binary\n",
    "bit_length      = len(s)\n",
    "mask            = (1 << bit_length) - 1 # wip to learn\n",
    "not_n           = (~n) & mask\n",
    "not_s           = bin(not_n)[2:].zfill(bit_length)\n",
    "print(\"Binary string:\", s)\n",
    "print(\"As integer:\", n)\n",
    "print(\"Bitwise NOT:\", not_s, \"(integer:\", not_n, \")\")\n"
   ]
  }
 ],
 "metadata": {
  "kernelspec": {
   "display_name": ".venv",
   "language": "python",
   "name": "python3"
  },
  "language_info": {
   "codemirror_mode": {
    "name": "ipython",
    "version": 3
   },
   "file_extension": ".py",
   "mimetype": "text/x-python",
   "name": "python",
   "nbconvert_exporter": "python",
   "pygments_lexer": "ipython3",
   "version": "3.12.3"
  }
 },
 "nbformat": 4,
 "nbformat_minor": 5
}
