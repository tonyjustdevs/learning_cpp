{
 "cells": [
  {
   "cell_type": "markdown",
   "id": "46af583a",
   "metadata": {},
   "source": [
    "# Bitwise OR Validation"
   ]
  },
  {
   "cell_type": "code",
   "execution_count": 1,
   "id": "6842a4fd",
   "metadata": {},
   "outputs": [
    {
     "name": "stdout",
     "output_type": "stream",
     "text": [
      "pre-8-bit padding s1: 0101\n",
      "pos-8-bit padding s1: 00000101\n",
      "pre-8-bit padding s2: 0110\n",
      "pos-8-bit padding s2: 00000110\n",
      "n1|n2: 7 (aka Bitwise OR)\n",
      "0b111\n",
      "00000111\n",
      "0000000000000111\n"
     ]
    }
   ],
   "source": [
    "# gpt\n",
    "s1              = \"0101\"  \n",
    "s2              = \"0110\"  \n",
    "n_bits          = 8\n",
    "# s1\n",
    "print(f\"pre-{n_bits}-bit padding s1: {s1}\")\n",
    "s1              = s1.zfill(n_bits)\n",
    "print(f\"pos-{n_bits}-bit padding s1: {s1}\")\n",
    "\n",
    "# s2\n",
    "print(f\"pre-{n_bits}-bit padding s2: {s2}\")\n",
    "s2              = s2.zfill(n_bits)\n",
    "print(f\"pos-{n_bits}-bit padding s2: {s2}\")\n",
    "\n",
    "n1              = int(s1, 2) \n",
    "n2              = int(s2, 2) \n",
    "\n",
    "n1_or_n2        = n1|n2\n",
    "print(f\"n1|n2: {n1_or_n2} (aka Bitwise OR)\")\n",
    "n1_or_n2_bin_raw_str = bin(n1_or_n2)\n",
    "print(n1_or_n2_bin_raw_str)\n",
    "\n",
    "n1_or_n2_bin_08b_str =format(n1_or_n2,\"08b\")\n",
    "\n",
    "print(n1_or_n2_bin_08b_str)\n",
    "print(format(n1_or_n2,\"016b\"))"
   ]
  }
 ],
 "metadata": {
  "kernelspec": {
   "display_name": ".venv",
   "language": "python",
   "name": "python3"
  },
  "language_info": {
   "codemirror_mode": {
    "name": "ipython",
    "version": 3
   },
   "file_extension": ".py",
   "mimetype": "text/x-python",
   "name": "python",
   "nbconvert_exporter": "python",
   "pygments_lexer": "ipython3",
   "version": "3.12.3"
  }
 },
 "nbformat": 4,
 "nbformat_minor": 5
}
