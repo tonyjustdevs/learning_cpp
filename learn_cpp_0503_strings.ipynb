{
 "cells": [
  {
   "cell_type": "markdown",
   "id": "d9bda29b",
   "metadata": {},
   "source": [
    "# Strings with `std::strings`"
   ]
  },
  {
   "cell_type": "markdown",
   "id": "24abe5d2",
   "metadata": {},
   "source": [
    "# 1. `getline(std::cin>>std::ws, variable_name)`\n",
    "Input manipulator telling `std::cin`:\n",
    "\n",
    "- ignore any Leading Whitespace before extraction\n",
    "- Leading whitespace is any whitespace character (spaces, tabs, newlines) that occur at the start of the string."
   ]
  },
  {
   "cell_type": "markdown",
   "id": "3654fd57",
   "metadata": {},
   "source": [
    "# 2. Length \n",
    "`name.length()`:\n",
    "\n",
    "- `length()` is not a normal standalone function \n",
    "- it is special type of function that is nested within `std::string` called a **member function**.\n",
    "- sometimes written as `std::string::length()` in documentation.\n",
    "- assign the length to an int variable to avoid compiler warnings about unsigned/signed conversions.\n",
    "    - `int length { static_cast<int>(name.length()) }`;\n",
    "\n",
    "# 3. Normal Functions vs Member Functions\n",
    "**normal functions**: `function(object)`   \n",
    "**member functions**: `object.function()`  "
   ]
  },
  {
   "cell_type": "markdown",
   "id": "101bb0e8",
   "metadata": {},
   "source": []
  },
  {
   "cell_type": "markdown",
   "id": "b2d66f52",
   "metadata": {},
   "source": []
  },
  {
   "cell_type": "markdown",
   "id": "d1ebd1aa",
   "metadata": {},
   "source": []
  },
  {
   "cell_type": "markdown",
   "id": "42ba5868",
   "metadata": {},
   "source": []
  },
  {
   "cell_type": "markdown",
   "id": "784f7eff",
   "metadata": {},
   "source": []
  },
  {
   "cell_type": "markdown",
   "id": "f40d690c",
   "metadata": {},
   "source": []
  },
  {
   "cell_type": "markdown",
   "id": "8c3f3d2a",
   "metadata": {},
   "source": []
  }
 ],
 "metadata": {
  "kernelspec": {
   "display_name": ".venv",
   "language": "python",
   "name": "python3"
  },
  "language_info": {
   "name": "python",
   "version": "3.12.3"
  }
 },
 "nbformat": 4,
 "nbformat_minor": 5
}
