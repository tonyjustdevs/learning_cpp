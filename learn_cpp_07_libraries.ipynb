{
 "cells": [
  {
   "cell_type": "markdown",
   "id": "0e80e6e4",
   "metadata": {},
   "source": [
    "# 0. Object Files, Static and Dynamic Libraries\n",
    "\n"
   ]
  },
  {
   "cell_type": "markdown",
   "id": "4890700c",
   "metadata": {},
   "source": [
    "# 1. Object Files (.o)\n",
    "It is a structured container with important *sections*:\n",
    "- **Machine Code Section** (`.text`): \n",
    "    - Actual compiled code of source code functions\n",
    "    - Translated to bytes that the CPU understands\n",
    "- **Data Section**: (`.data`, `.bss`): \n",
    "    - Initialised & \n",
    "    - Uninitialised global variables\n",
    "- **Symbol Table**: \n",
    "    - Directory (or Phonebook) of the object file\n",
    "- **Relocation Entries**:\n",
    "    - To-Do List (or 'Help Wanted' ads)"
   ]
  },
  {
   "cell_type": "markdown",
   "id": "2905d94f",
   "metadata": {},
   "source": [
    "# 1.1 Tony To-Do: object files (`.o`)\n",
    "- Name 4 Important Sections\n",
    "- Create `main.cpp`, includes:\n",
    "    - declaration: a function\n",
    "    - definition: a global variable\n",
    "    - in main:\n",
    "        - call function and store result into `result` variable\n",
    "        - assign `result` variable to global variable\n",
    "- create symbol table representing above main.cpp, headings:\n",
    "    - Symbol Name\n",
    "    - Type\n",
    "    - Defined?\n",
    "    - Section (from important sections in q1)\n",
    "- why is symbol table imporatant to the linker?"
   ]
  },
  {
   "cell_type": "markdown",
   "id": "c3d9ce5b",
   "metadata": {},
   "source": [
    "# 1. The Standard Library\n",
    "The entire collection of libraries that are part of the ISO C++ standard. This includes:\n",
    "\n",
    "- Containers: `vector`, `map`, `string`, etc. \n",
    "    - from headers like `<vector>`, `<map>`, `<string>`\n",
    "- Algorithms: `sort`, `find`, `copy`, etc.\n",
    "    - from header `<algorithm>`\n",
    "- Input/Output Streams: `cout`, `cin`, `ifstream`, etc. \n",
    "    - from headers `<iostream>`, `<fstream>`\n",
    "- Utilities: `pair`, `move`, `shared_ptr`, etc. \n",
    "    - from headers `<utility>`, `<memory>`\n",
    "- And much more: Threading, smart pointers, random numbers, time utilities, etc.\n",
    "\n"
   ]
  },
  {
   "cell_type": "markdown",
   "id": "ce3d3950",
   "metadata": {},
   "source": [
    "# 2. `std` **namespace**\n",
    "Where all the ***standard library names*** \n",
    "- e.g. `cout`, `vector`, `string` are placed,\n",
    "- to *avoid* **naming conflicts** with source code,\n",
    "- Note: just because they're inside e.g. `cout`, they're ***not*** *automatically available*.\n"
   ]
  },
  {
   "cell_type": "markdown",
   "id": "2e6a3965",
   "metadata": {},
   "source": [
    "# 3. `<iostream>` Header\n",
    "Provided by c++ implementation (e.g. `GCCC`, `Clang`, `MSVC`)\n"
   ]
  },
  {
   "cell_type": "markdown",
   "id": "0d03d74e",
   "metadata": {},
   "source": [
    "# 4. Libraries: `.so` or `.dll` files\n",
    "## 4.1 Libs are **Structured Container**:\n",
    "\n",
    "**Header**  \n",
    "\n",
    "**Table of Contents**: list of names & their offsets within file\n",
    "- For a **function**: `\"std::ostream::operator<<(char const*)\" -> offset 0x5020`\n",
    "- For a **global object**: `\"std::cout\" -> offset 0xA040`\n"
   ]
  },
  {
   "cell_type": "markdown",
   "id": "e81ecede",
   "metadata": {},
   "source": [
    "## 4.2"
   ]
  }
 ],
 "metadata": {
  "kernelspec": {
   "display_name": ".venv",
   "language": "python",
   "name": "python3"
  },
  "language_info": {
   "codemirror_mode": {
    "name": "ipython",
    "version": 3
   },
   "file_extension": ".py",
   "mimetype": "text/x-python",
   "name": "python",
   "nbconvert_exporter": "python",
   "pygments_lexer": "ipython3",
   "version": "3.12.3"
  }
 },
 "nbformat": 4,
 "nbformat_minor": 5
}
