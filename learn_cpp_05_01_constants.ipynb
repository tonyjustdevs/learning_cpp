{
 "cells": [
  {
   "cell_type": "markdown",
   "id": "5ee545cb",
   "metadata": {},
   "source": [
    "# 5. Constants and Stringzs\n",
    "Two Types of **Constants**:\n",
    "\n",
    "- **Named**: has identifier\n",
    "- **Literals**: no identifier\n"
   ]
  },
  {
   "cell_type": "markdown",
   "id": "382647c9",
   "metadata": {},
   "source": [
    "# 5.1.1 Defining 'Named' Constants\n",
    "\n",
    "3 methods:\n",
    "\n",
    "- Constant Variables\n",
    "- Object-like macros with subsitution text\n",
    "- Enumerated constants\n"
   ]
  },
  {
   "cell_type": "markdown",
   "id": "c5d95998",
   "metadata": {},
   "source": [
    "## 5.1.2 Declaration: **const variable**\n",
    "\n",
    "Place `const` adjacent to object type\n",
    "- `const double gravity{9.8}`: `gravity` is type `const double`"
   ]
  },
  {
   "cell_type": "markdown",
   "id": "900a3ab7",
   "metadata": {},
   "source": [
    "# 5.1.3 Types of Const\n",
    "- As a **named constants**\n",
    "    - must be initialised\n",
    "- Object-like macros with substitution text (are also **Named Constants**)\n",
    "    - not recommended due to lack of scoping rules \n",
    "- As a **value parameter**\n",
    "    - not recommedended\n",
    "- As a **return value**\n",
    "    - not recommedended"
   ]
  },
  {
   "cell_type": "markdown",
   "id": "3611b9ed",
   "metadata": {},
   "source": [
    "# 5.2 Literals\n",
    "Literals are values that are inserted directly into the code:\n",
    "\n",
    "- `int` literals\n",
    "- `floating point` literals\n",
    "- `string` literals\n",
    "- `magic numbers`\n",
    "\n"
   ]
  },
  {
   "cell_type": "markdown",
   "id": "e61f6ab1",
   "metadata": {},
   "source": [
    "# 5.2.1 Literal Types\n",
    "The type of a literal is deduced from the literal's value\n",
    "# 5.2.2 Change Literal Types: Using Suffixes\n",
    "If the default type of a literal is not as desired:\n",
    "\n",
    "- can change the type of a literal by adding a suffix.\n"
   ]
  },
  {
   "cell_type": "markdown",
   "id": "15f846e3",
   "metadata": {},
   "source": [
    "# 5.2.3 `int` literals\n",
    "Can `cout` `int` literals with suffix:\n",
    "\n",
    "- `5L`, `5u`\n",
    "\n",
    "Can initialise non-suffixed `int` litrals to `non-int` types (e.g. `double`, `long` etc)\n",
    "\n",
    "- `unsigned int b { 6 }`;\n",
    "    - OKAY: compiler will convert `int` `6` to `unsigned int` `6`\n"
   ]
  },
  {
   "cell_type": "markdown",
   "id": "e53f15b2",
   "metadata": {},
   "source": [
    "# 5.2.4 `Floating Point` Literals\n",
    "By default, FP Literals are type `double`:\n",
    "\n",
    "- `float f {4.1}`: ERROR: 4.1 is double literal, not float\n",
    "- `float f {4.1f}` OK\n",
    "- `double d { -1.23 }`: OK\n",
    "`double why { 0. }` OK syntactically acceptable, but please dont\n",
    "`double avogadro { 6.02e23 }`: OK\n",
    "`double protonCharge { 1.6e-19 }`: OK\n",
    "\n",
    "# 5.2.5 Magic Number\n",
    "A magic number is a literal (usually a number) that either has an unclear meaning or may need to be changed later.\n"
   ]
  },
  {
   "cell_type": "markdown",
   "id": "82d80d17",
   "metadata": {},
   "source": []
  },
  {
   "cell_type": "markdown",
   "id": "e89f22b0",
   "metadata": {},
   "source": []
  },
  {
   "cell_type": "markdown",
   "id": "0cc044e4",
   "metadata": {},
   "source": []
  },
  {
   "cell_type": "markdown",
   "id": "b7261abd",
   "metadata": {},
   "source": []
  },
  {
   "cell_type": "markdown",
   "id": "4f6587cf",
   "metadata": {},
   "source": []
  },
  {
   "cell_type": "markdown",
   "id": "ed49abab",
   "metadata": {},
   "source": []
  },
  {
   "cell_type": "markdown",
   "id": "ca6722b6",
   "metadata": {},
   "source": []
  },
  {
   "cell_type": "markdown",
   "id": "0a084a16",
   "metadata": {},
   "source": []
  },
  {
   "cell_type": "markdown",
   "id": "abbd0f1d",
   "metadata": {},
   "source": []
  },
  {
   "cell_type": "markdown",
   "id": "9e3b51ca",
   "metadata": {},
   "source": [
    "# 5.1.4 Type Qualifiers\n",
    "- `const`\n",
    "- `volatile`"
   ]
  },
  {
   "cell_type": "markdown",
   "id": "f344f006",
   "metadata": {},
   "source": [
    "# 5.2 TODOs \n",
    "Declare \n",
    "- integer literal\n",
    "- boolean literal\n",
    "- double literal\n",
    "- C-style string literal\n",
    "\n",
    "Using (cout) `int` literal with suffix\n",
    "- literal long\n",
    "- literal unsigned int\n",
    "\n",
    "Declaring `int` literal without suffix (compiler conversion)"
   ]
  },
  {
   "cell_type": "markdown",
   "id": "dcc1799c",
   "metadata": {},
   "source": []
  },
  {
   "cell_type": "markdown",
   "id": "e9169500",
   "metadata": {},
   "source": []
  },
  {
   "cell_type": "markdown",
   "id": "12b2c8e5",
   "metadata": {},
   "source": []
  },
  {
   "cell_type": "markdown",
   "id": "9ba45815",
   "metadata": {},
   "source": [
    "## 5.9 Best Practice Advice\n",
    "- Don’t use `const` for value parameters (parameters to functions)"
   ]
  },
  {
   "cell_type": "markdown",
   "id": "ee4235cb",
   "metadata": {},
   "source": [
    "## 5.2.9 Mini-Projects\n",
    "- [3] Declare const directly\n",
    "    - Validate type\n",
    "    - Validate cannot change value\n",
    "- [2] Declare const via non-const\n",
    "    - Validate type\n",
    "    - Validate cannot change value\n"
   ]
  }
 ],
 "metadata": {
  "kernelspec": {
   "display_name": ".venv",
   "language": "python",
   "name": "python3"
  },
  "language_info": {
   "name": "python",
   "version": "3.12.3"
  }
 },
 "nbformat": 4,
 "nbformat_minor": 5
}
