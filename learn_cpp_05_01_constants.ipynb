{
 "cells": [
  {
   "cell_type": "markdown",
   "id": "5ee545cb",
   "metadata": {},
   "source": [
    "# Constants\n",
    "Two Types of **Constants**:\n",
    "\n",
    "- **Named**: has identifier, by placing attribute `const` adjacent to object type:\n",
    "    - `const double gravity1`;        (error: const variables must be initialized)\n",
    "    - `const double gravity2{9.8}`;   (ok)\n",
    "- **Literals**: no identifier\n",
    "    - `5;`\n",
    "    - `1.2;`\n",
    "    - `\"Hello world!\"`\n"
   ]
  },
  {
   "cell_type": "markdown",
   "id": "e89f22b0",
   "metadata": {},
   "source": [
    "# Quiz Constants\n",
    "For each statement, identify:\n",
    "\n",
    "- Whether the **initializer** is a **constant** or **non-constant** expression.\n",
    "- Whether the **variable** is a **constant** or **non-constant** expression.\n"
   ]
  },
  {
   "cell_type": "markdown",
   "id": "49d07019",
   "metadata": {},
   "source": [
    "|Qn| C++ Statement                                                    |Initializer    |Variable               |\n",
    "|--|------------------------------------------------------------------|---------------|-----------------------|\n",
    "|a)| `char a { 'q' };`                 |`q` (const)<br>- a literal    |`a` (non-const)<br>const keyword unused     |\n",
    "|b)| `const int b { 0 };`              |`0` (const)<br>- a literal    |`b` (const)<br>- const int variable<br>- with const express initializer `0` |\n",
    "|c)| `const double c { 5.0 };`         |`5.0` (const)<br>- a literal  |`c` (non-const)<br>- non-integral variable<br>Note: only const integral variables with a constant expression initializer are compile-time constants |\n",
    "|d)| `const int d { a * 2 };`<br>- where `char a { 'q' };`     |`a*2` (const)<br>- `a` is non-const as missing const keyword|`d` (non-const)<br>- `a` is non-const exp initializer|\n",
    "|e)| `int e { c + 1.0 };`<br>- where `const double c { 5.0 };` |`c` (non-const)<br>- its a non-integral variable (double)|`e` (non-const)<br>- missing const keyword<br>- non-integral initializer|\n",
    "|f)| `const int f { d * 2 };`<br>- where `const int d { 0 };`  |`d` (const)<br>- integral const expresssion<br>- with const exp initializer `0`|`f` (const)<br> -const integral variable<br>- with const expres init `d`|\n",
    "|g)| `const int g { getNumber() };`<br>- where `getNumber returns an int by value` |`getNumber()` (non-const)|`g` (non-const)|\n",
    "|h)| `const int h{};`           |default initializer `0` (const)|`h` (const)<br>- integral variable <br>- with const expression init|"
   ]
  }
 ],
 "metadata": {
  "kernelspec": {
   "display_name": ".venv",
   "language": "python",
   "name": "python3"
  },
  "language_info": {
   "name": "python",
   "version": "3.12.3"
  }
 },
 "nbformat": 4,
 "nbformat_minor": 5
}
