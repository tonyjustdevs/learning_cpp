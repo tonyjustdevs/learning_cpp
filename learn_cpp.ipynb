{
 "cells": [
  {
   "cell_type": "markdown",
   "id": "0e80e6e4",
   "metadata": {},
   "source": [
    "# Learn CPP: Q&A"
   ]
  },
  {
   "cell_type": "markdown",
   "id": "c62c653a",
   "metadata": {},
   "source": [
    "# 2.6 Forward Declarations\n",
    "A **declaration** tells the compiler: \n",
    "- about the *existence* of an **identifier** &\n",
    "- its associated **type**\n",
    "\n",
    "\n",
    "# 2.6.1 Declarations\n",
    "\n",
    "Example 1: `int add(int x, int y)` tells compiler *existence* of:\n",
    "- **function** named: \n",
    "    - `add`\n",
    "- **inputs**: \n",
    "    - 2 `int` **parameters**\n",
    "- **returns**: \n",
    "    - 1 `int`\n",
    "\n",
    "Example 2: `int x` tells compiler *existence* of:\n",
    "- **variable named**: \n",
    "    - `x`\n",
    "- **type**: \n",
    "    - `int`"
   ]
  },
  {
   "cell_type": "markdown",
   "id": "8a655eef",
   "metadata": {},
   "source": [
    "# 2.6.3 Definition\n",
    "\n",
    "A **definition** is a **declaration** that :\n",
    "- **implements** (for functions and types) or \n",
    "- **instantiates** (for variables) the identifier\n",
    "\n",
    "All definitions are declartions, ie `int x` is both defintion & declaration"
   ]
  },
  {
   "cell_type": "markdown",
   "id": "787e7249",
   "metadata": {},
   "source": [
    "Below `add()` function has a body, its an implementation:\n",
    "\n",
    "    int add(int x, int y){\n",
    "        int z{x+y};             //  instantiates z\n",
    "            return z;\n",
    "    }\n",
    "    int x;                      //  instantiates x\n"
   ]
  },
  {
   "cell_type": "markdown",
   "id": "8b340dd0",
   "metadata": {},
   "source": [
    "Term\t        |Technical Meaning\t|Examples|\n",
    "|-|-|-|\n",
    "*Declaration*     |Tells compiler about an identifier and its associated type information.\t|`void foo()` - function forward declaration (no body)<br>`void goo(){};` - function definition (has body)<br>`int x;` - variable definition|\n",
    "**Definition**      |Implements a function or instantiates a variable. Definitions are also declarations.\t|`void foo(){};` - function definition (has body)<br>`int x;` - variable definition|\n",
    "**Pure Declaration**|\tA declaration that isn’t a definition.\t|`void foo();` - function forward declaration (no body)|\n",
    "**Initialization**  |\tProvides an initial value for a defined object.\t|`int x { 2 };` - x is initialized to value 2|\n"
   ]
  },
  {
   "cell_type": "markdown",
   "id": "2206699a",
   "metadata": {},
   "source": [
    "\n"
   ]
  }
 ],
 "metadata": {
  "kernelspec": {
   "display_name": ".venv",
   "language": "python",
   "name": "python3"
  },
  "language_info": {
   "name": "python",
   "version": "3.12.3"
  }
 },
 "nbformat": 4,
 "nbformat_minor": 5
}
