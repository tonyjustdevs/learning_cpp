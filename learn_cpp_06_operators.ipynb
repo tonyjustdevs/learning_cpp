{
 "cells": [
  {
   "cell_type": "markdown",
   "id": "0ebec27b",
   "metadata": {},
   "source": [
    "# 6. Operators"
   ]
  },
  {
   "cell_type": "markdown",
   "id": "9173faf6",
   "metadata": {},
   "source": [
    "# Question 1:\n",
    "$$6 + 5 * 4 % 3$$\n",
    "$$6 + 20 % 3$$\n",
    "$$6 + 2$$\n",
    "$$8$$\n"
   ]
  },
  {
   "cell_type": "markdown",
   "id": "31dba3b0",
   "metadata": {},
   "source": [
    "|op|prec|ass |\n",
    "|--|----|----|\n",
    "|+ | 6  |l->r|\n",
    "|* | 5  |l->r|\n",
    "|% | 5  |l->r|\n",
    "\n"
   ]
  }
 ],
 "metadata": {
  "kernelspec": {
   "display_name": ".venv",
   "language": "python",
   "name": "python3"
  },
  "language_info": {
   "name": "python",
   "version": "3.12.3"
  }
 },
 "nbformat": 4,
 "nbformat_minor": 5
}
