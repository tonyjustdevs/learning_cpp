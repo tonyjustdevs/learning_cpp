{
 "cells": [
  {
   "cell_type": "markdown",
   "id": "59bcf5f8",
   "metadata": {},
   "source": [
    "# C++ Types"
   ]
  },
  {
   "cell_type": "markdown",
   "id": "cc355e48",
   "metadata": {},
   "source": [
    "# 7. Data Types\n",
    "When you give an object a value, \n",
    "- the compiler and CPU take care of \n",
    "- **encoding** your value \n",
    "- into the appropriate **sequence of bits** \n",
    "- for that **data type**, which are \n",
    "- then stored in **memory** (remember: memory can only store bits). \n",
    "\n",
    "For example, \n",
    "- ***assigning*** integer object the value 65\n",
    "- is ***converted*** to sequence of bits `0100 0001` \n",
    "- ***stored*** in the **memory** assigned to the object."
   ]
  },
  {
   "cell_type": "markdown",
   "id": "8c3b391d",
   "metadata": {},
   "source": [
    "# 7.1 Data Types Table\n",
    "\n",
    "|Types\t|Category|\tMeaning|\tExample|\n",
    "|-|-|-|-|\n",
    "|float<br>double<br>long double| Floating Point|\ta number with a fractional part|3.14159|\n",
    "|bool\t|Integral (Boolean)\t|true or false|\ttrue|\n",
    "|char<br>wchar_t<br>char8_t (C++20)<br>char16_t (C++11)<br>char32_t (C++11)|\tIntegral (Character)|\ta single character of text|\t'c'|\n",
    "|short int<br>int<br>long int<br>long long int (C++11)\t|Integral (Integer)\t|positive and negative whole numbers, including 0|\t64|\n",
    "|std::nullptr_t (C++11)\t|Null Pointer\t|a null pointer\t|nullptr|\n",
    "|void\t|Void|\tno type|\tn/a|"
   ]
  },
  {
   "cell_type": "markdown",
   "id": "7f683467",
   "metadata": {},
   "source": [
    "## 7.2 `Void` Type\n",
    "The compiler knows about the existence of such types, \n",
    "- but does not have enough information \n",
    "- to determine **how much memory** to allocate for objects of that type."
   ]
  },
  {
   "cell_type": "markdown",
   "id": "0ca08a67",
   "metadata": {},
   "source": [
    "# 7.3 Object Sizes\n",
    "\n",
    "A single object may use 1, 2, 4, 8, or even more consecutive memory addresses.\n",
    "- The **amount of memory** that an object uses \n",
    "- is based on its **data type**.\n",
    "\n",
    "# 7.3.1 Compiler\n",
    "The compiler is able to \n",
    "- hide the details of how many bytes a given object uses from us. \n",
    "- When we access some variable `x`\n",
    "    - the compiler knows how many bytes of data need to be retrieved (based on the type of variable x), and \n",
    "    - will output the appropriate machine language code to handle that detail for us.\n",
    "\n",
    "# 7.3.2 How many values can an object hold?\n",
    "\n",
    "|Bits   |Values|\n",
    "|-------|------|\n",
    "|1-bit  | $2^1$|\n",
    "|2-bits | $2^2$|\n",
    "|3-bits | $2^3$|\n",
    "|n-bits | $2^n$|\n",
    " \n",
    "Therefore 8-bits = $2^8$ = 256 values.  \n",
    "\n",
    "An object, holding 16-bits = $2^16$ = 65,536 values."
   ]
  },
  {
   "cell_type": "markdown",
   "id": "bd7c2387",
   "metadata": {},
   "source": [
    "# 7.4 Modern Architectures\n",
    "General Assumptions:\n",
    "- a byte is 8 bits\n",
    "- Memory is bytes addressable (Each byte is memory independent)\n",
    "- Floating point support (IEEE-754 compliant)\n",
    "- 32-bit or 64-bit architecture\n",
    "\n",
    "Ref: https://en.cppreference.com/w/cpp/language/types.html"
   ]
  },
  {
   "cell_type": "markdown",
   "id": "bf6f6a09",
   "metadata": {},
   "source": [
    "## 7.4.1 Getting Byte & Type Size\n",
    "- `#include <climits>`: allow import of `CHAR_BIT` (bits of byte)\n",
    "- `#include <iomanip>`: for `setw` (setting width) \n",
    "    - `std::cout << std::left;` // left justify output\n",
    "    - `std::cout << std::setw(16) << \"bool:\" << sizeof(bool) << \" bytes\\n\";`\n",
    "    - `sizeof()`: shows number of bytes of a type/object.\n",
    "\n",
    "Others:\n",
    "- `std::fixed`: disables scientific notation.\n",
    "- `std::setprecision(0)` → no decimal places."
   ]
  },
  {
   "cell_type": "markdown",
   "id": "551886ce",
   "metadata": {},
   "source": [
    "## 7.4.2 Note on Peformance\n",
    "We may assume:\n",
    "- types that use **less** memory \n",
    "- would be ***faster*** than types \n",
    "- that use **more** memory. \n",
    "- This is **not always true**. \n",
    "\n",
    "## 7.4.3 CPUs\n",
    "CPUs are often ***optimized***:\n",
    "- to process data of a **certain size** (e.g. 32 bits), and \n",
    "- types that match that size may be **processed quicker**. \n",
    "\n",
    "On such a machine, \n",
    "- `a 32-bit int` could be **faster** \n",
    "- than a `16-bit short` or an `8-bit char`."
   ]
  },
  {
   "cell_type": "markdown",
   "id": "5fff56ef",
   "metadata": {},
   "source": [
    "## 7.4 Signed & Unsigned Variables\n",
    "## 7.4.1 Signed Variables\n",
    "`n-bit` **signed** varaible has range from:\n",
    "- $-(2^{n-1})$ to\n",
    "- $+(2^{n-1}-1)$.\n",
    "\n",
    "## 7.4.2 Unsigned Variables\n",
    "An `n-bit` **unsigned** variable has a range of:\n",
    "- $0$ to \n",
    "- $(2^n-1)$.\n",
    "\n",
    "Use-cases:\n",
    "- well-suited for networking and systems **with little memory**\n",
    "- because unsigned integers can store **more positive numbers**\n",
    "- **without** taking up extra memory\n"
   ]
  },
  {
   "cell_type": "markdown",
   "id": "c3c7c997",
   "metadata": {},
   "source": [
    "# 7.5 Unsigned Integer Overflow\n",
    "\n",
    "If an unsigned value is out of range:\n",
    "- the value it is ***divided*** by **one greater** \n",
    "- than the **largest number of the type**, \n",
    "- and only the **remainder** kept.\n",
    "\n",
    "## 7.5.1 Attempting to store value `280` to 1-one byte type\n",
    "- Step 1: \n",
    "    - Current Max of 1-byte type: 1 byte range is `255`\n",
    "    - Add 1 type: `255` + `1` = `256`\n",
    "    - Divide origina value by above: `280/256`\n",
    "        - Equals `1` remainder `24`\n",
    "        - Keep `24` and store it.\n"
   ]
  },
  {
   "cell_type": "markdown",
   "id": "27dca537",
   "metadata": {},
   "source": [
    "## 7.5.2 Unsigned + Signed Integers\n",
    "In C++, if a mathematical operation (e.g. arithmetic or comparison) has: \n",
    "- **one signed integer** and \n",
    "- **one unsigned integer**, \n",
    "- Result: \n",
    "    - signed integer ---> converted ---> to an \n",
    "    - **unsigned integer**."
   ]
  },
  {
   "cell_type": "markdown",
   "id": "7382d5b6",
   "metadata": {},
   "source": [
    "# 8. Rank\n",
    "\n",
    "**Rank** is a concept used in the **usual arithmetic conversions** to decide how to convert operands of different integer types so that operations like addition, subtraction, or comparison can be done safely.\n",
    "\n",
    "| Rank (increasing order)                |\n",
    "| -------------------------------------- |\n",
    "| `bool`                                 |\n",
    "| `char`, `signed char`, `unsigned char` |\n",
    "| `short`, `unsigned short`              |\n",
    "| `int`, `unsigned int`                  |\n",
    "| `long`, `unsigned long`                |\n",
    "| `long long`, `unsigned long long`      |\n",
    "\n",
    "Ref: https://eel.is/c++draft/conv.rank"
   ]
  },
  {
   "cell_type": "markdown",
   "id": "9d2dc812",
   "metadata": {},
   "source": [
    "## 8.1 Different Types\n",
    "When two operands have different types, the usual arithmetic conversions apply:\n",
    "\n",
    "If ranks different:\n",
    "- **lower rank operand** ---> type of **higher_rank_operand**.\n",
    "\n",
    "If ranks same && different signed: \n",
    "- check if unsigned type can represent all values of the signed type:\n",
    "    - If yes → signed converted to unsigned\n",
    "    - If no → both converted to the unsigned version of the signed type.\n",
    "\n",
    "`static_cast<int>(x)`: unsigned char to int"
   ]
  },
  {
   "cell_type": "markdown",
   "id": "2adc229c",
   "metadata": {},
   "source": [
    "# 9. Fixed Width Integers and `size_t`\n",
    "## 9.1 Fixed Width Integers\n",
    "\n",
    "C++11 provides an:\n",
    "- **alternate set** of integer types that are \n",
    "- guaranteed to be the **same size** \n",
    "- on any **architecture**\n",
    "- `<cstdint>` header"
   ]
  },
  {
   "cell_type": "markdown",
   "id": "1c33bec5",
   "metadata": {},
   "source": [
    "|Name\t        |Fixed Size\t        |Fixed Range\t(Notes)|\n",
    "|---------------|-------------------|----------------------|\n",
    "|std::int8_t\t|1 byte signed\t    |-128 to 127\t(Treated like a signed char on many systems. See note below.)|\n",
    "|std::uint8_t\t|1 byte unsigned    |0 to 255\t(Treated like an unsigned char on many systems. See note below.)|\n",
    "|std::int16_t\t|2 byte signed\t    |-32,768 to 32,767\t|\n",
    "|std::uint16_t\t|2 byte unsigned\t|0 to 65,535\t|\n",
    "|std::int32_t\t|4 byte signed\t    |-2,147,483,648 to 2,147,483,647\t|\n",
    "|std::uint32_t\t|4 byte unsigned\t|0 to 4,294,967,295\t|\n",
    "|std::int64_t\t|8 byte signed\t    |-9,223,372,036,854,775,808 to 9,223,372,036,854,775,807\t|\n",
    "|std::uint64_t\t|8 byte unsigned\t|0 to 18,446,744,073,709,551,615\t|"
   ]
  },
  {
   "cell_type": "markdown",
   "id": "80e3b81c",
   "metadata": {},
   "source": [
    "# 10. `sizeof`\n",
    "\n",
    "`size_t` is a type, not an object, depending on the system, decided by the **compiler**:\n",
    "- an ***alias*** for an unsigned integer type, like \n",
    "    - unsigned int or \n",
    "    - unsigned long long\n",
    "    - unsigned long\n",
    "\n",
    "Since `size_t` is just another type, you can get the `sizeof` it:\n",
    "- `sizeof` returns a value of type `std::size_t`. "
   ]
  },
  {
   "cell_type": "markdown",
   "id": "50825820",
   "metadata": {},
   "source": [
    "# 11. Scientifice Notation\n",
    "Numbers in scientific notation are in form:  \n",
    "- $(significand) * 10^{(exponent)}$\n",
    "- i.e. $5972200000000000000000000$ ---> $(5.9722)*10^{24} kg$  (mass of earth)\n",
    "\n",
    "But it can be hard to type or display **exponents** in `C++`:\n",
    "- Use `e` to represent **times 10 to the power of**."
   ]
  },
  {
   "cell_type": "markdown",
   "id": "5922c02e",
   "metadata": {},
   "source": [
    "## 11.1 Examples: Positive Numbers \n",
    "|Scientific Notation|`e` |\n",
    "|-|-|\n",
    "|$1.2*10^{4}$      |$1.2e4$|\n",
    "|$5.9722*10^{24}$  |$5.9722e24$|"
   ]
  },
  {
   "cell_type": "markdown",
   "id": "2eb2d301",
   "metadata": {},
   "source": [
    "## 11.2 Examples: Negative  Numbers \n",
    "|Scientific Notation|`e` |Fractional|\n",
    "|-|-|-|\n",
    "|$5*10^{-2}$      |$1.2e4$|$\\frac{5}{10^{2}}$|\n",
    "|$9.1093837*10^{-31}$  |$9.1093837e-31$|$\\frac{9.1093837}{10^{31}}$<br>i.e. mass of electron|"
   ]
  },
  {
   "cell_type": "markdown",
   "id": "c51610fa",
   "metadata": {},
   "source": [
    "## 11.3 Significant Numbers\n",
    "Recall: $(significand) * 10^{(exponent)}$\n",
    "\n",
    "The *digits* in the `significand`  are called the **significant digits** (or significant figures). \n",
    "\n",
    "|Scientific |`e` |Decimal|Significant Digits|\n",
    "|-|-|-|-|\n",
    "|$3.14^{0}$      |$3.14e0$|3.14|3|\n",
    "|$3.14159^{0}$      |$3.14159e0$|3.14159|6|"
   ]
  },
  {
   "cell_type": "markdown",
   "id": "284f8acf",
   "metadata": {},
   "source": [
    "## 11.4 SN Questions\n",
    "Tasks:\n",
    "- convert to **scientific notation** (with e) \n",
    "- determine how many **significant digits**.\n",
    "- keep trailing zeros after a decimal point, \n",
    "- drop trailing zeros if there is no decimal point.\n",
    "\n",
    "\n",
    "|Qn|Decimal     |Scientific                 |`e`            |Sig.Digs   |\n",
    "|--|------------|---------------------------|---------------|-----------|\n",
    "|a |34.50       |$3.450\\times10^{2}$        |$3.540e2$      |$4$        |\n",
    "|b |0.004000    |$4.000\\times10^{-3}$       |$4.000e(-3)$   |$4$        |\n",
    "|c |123.005     |$1.23005\\times10^{2}$      |$123.005e2$    |$6$        |\n",
    "|d |146000      |$1.46\\times10^{5}$         |$1.46e5$       |$3$        |\n",
    "|e |146000.001  |$1.46000001\\times10^{5}$   |$1.46000001e5$ |$9$        |\n",
    "|f |0.0000000008|$8\\times10^{-10}$          |$8e-10$        |$1$: $\\because 8.1$ is $2$|\n",
    "|g |34500       |$3.45\\times10^{4}$         |$3.45e4$       |$3$:       |\n",
    "|h |34500.0     |$3.4500\\times10^{4}$       |$3.4500e4$     |$6$: no trim because decimal point<br>Even though the decimal point doesn’t affect the value of the number, it affects the precision, so it needs to be included in the significand.      |\n",
    "|i |146000<br>(assume you have knowledge that zeros are significant)     |$1.46000^{5}$  |$1.46e5$|$6$          |\n",
    "\n"
   ]
  },
  {
   "cell_type": "markdown",
   "id": "5c7f226c",
   "metadata": {},
   "source": [
    "# 12. Floating Point Numbers (FP)\n",
    "\n",
    "A **floating point** type variable is a variable that can hold a number:\n",
    "\n",
    "- with a fractional component, e.g. 4320.0, -3.33, or 0.01226. \n",
    "\n",
    "The floating part refers decimal point can ***float***:\n",
    "\n",
    "- supporing variable number of digits before and after the decimal point\n",
    "- i.e. the point floats back and forth\n",
    "- FP are **always signed**"
   ]
  },
  {
   "cell_type": "markdown",
   "id": "dc8036b8",
   "metadata": {},
   "source": [
    "## 12.1 Types\n",
    "|type|description|category|typical size|convention|\n",
    "|-|-|-|-|-|\n",
    "|`float`| single-precision|floating|4 bytes|**use** $\\because$ usually $4$ bytes|\n",
    "|`double`| dbl-precision|floating|8 bytes|**use** $\\because$ usually $8$ bytes|\n",
    "|`long double`| extended precision|floating|$8$, $12$ or $16$ bytes|**avoid use** $\\because$ size varies|\n",
    "\n",
    "Implementation Ref: [IEEE 754 standard](https://en.wikipedia.org/wiki/IEEE_754)"
   ]
  },
  {
   "cell_type": "markdown",
   "id": "209f2203",
   "metadata": {},
   "source": [
    "## 12.2 Range\n",
    "\n",
    "|Format\t|Bytes|`Range`\t|Precision|\n",
    "|-|-|-|-\n",
    "|IEEE 754 single-precision      |$4 $ bytes\t    |±$1.18$ x $10^{-38}  $ to ±$3.4 $ x $10^{38  }$ and $0.0$    |$6-9  $      sig.digs, usually $7 $|\n",
    "|IEEE 754 double-precision      |$8 $ bytes\t    |±$2.23$ x $10^{-308} $ to ±$1.80$ x $10^{308 }$ and $0.0$    |$15-18$      sig.digs, usually $16$|\n",
    "|x87 extended-precision         |$80$ bits      |±$3.36$ x $10^{-4932}$ to ±$1.18$ x $10^{4932}$ and $0.0$    |$18-21$      sig.digs|\n",
    "|IEEE 754 quadruple-precision   |$16$ bytes     |±$3.36$ x $10^{-4932}$ to ±$1.18$ x $10^{4932}$ and $0.0$    |$33-36$      sig.digs|\n"
   ]
  },
  {
   "cell_type": "markdown",
   "id": "8299e91c",
   "metadata": {
    "vscode": {
     "languageId": "plaintext"
    }
   },
   "source": [
    "# 12.3 FP IEEE 754 compliant \n",
    "### 12.3.1 Bit layout & value representation\n",
    "The number is **stored** in the **standard format**:\n",
    "\n",
    "|Value Part|Description |32-bit |Example|\n",
    "|-|-|-|-|\n",
    "|Sign bit (1 bit)               |→ positive/negative.    | $1 $ bits     |$0$ is Pos've|\n",
    "|Exponent field (fixed width)   |→ scale of the number.  | $8 $ bits     |00001010|\n",
    "|Fraction/mantissa field        |→ significant digits.   | $23$ bits     |       asdf |"
   ]
  },
  {
   "cell_type": "markdown",
   "id": "a2f0aab4",
   "metadata": {},
   "source": [
    "$value = (-1)^{signBit}$ × $1.[significandBits]$ × $2^{(expBits - bias)}$\n",
    "\n",
    "5 = -1(0)+1."
   ]
  },
  {
   "cell_type": "code",
   "execution_count": 6,
   "id": "002f1753",
   "metadata": {},
   "outputs": [
    {
     "data": {
      "text/plain": [
       "'1010'"
      ]
     },
     "execution_count": 6,
     "metadata": {},
     "output_type": "execute_result"
    }
   ],
   "source": [
    "num = 10\n",
    "bin(num)[2:]"
   ]
  },
  {
   "cell_type": "markdown",
   "id": "d30c639b",
   "metadata": {},
   "source": [
    "## 12.4 `float` vs `double`\n",
    "\n",
    "| Type     | Size in bytes | Bits total | Bits for value (significand) | Bits for exponent | Bits for sign |\n",
    "| -------- | ------------- | ---------- | ---------------------------- | ----------------- | ------------- |\n",
    "| `float`  | 4 bytes       | 32 bits    | 23 bits                      | 8 bits            | 1 bit         |\n",
    "| `double` | 8 bytes       | 64 bits    | 52 bits                      | 11 bits           | 1 bit         |\n",
    "\n",
    "A floating-point number is stored in binary scientific notation:\n",
    "\n",
    "$value = (-1)^{signBit}$ × $1.[significandBits]$ × $2^{(expBits - bias)}$\n",
    "\n",
    "- More bits for significand → can represent numbers with more precision.\n",
    "- More bits for exponent → can represent larger/smaller magnitude number\n",
    "\n",
    "## 12.4.1 `float` vs `double`: Memory Configuration\n",
    "|Memory|Binary Configs|Misc\n",
    "|-|-|-|\n",
    "|Before promo (float 5.0) | `01000000101000000000000000000000`                                | `binary` rep of $5.0$ in `float`|\n",
    "|After promo (double 5.0) | `0100000000010100000000000000000000000000000000000000000000000000`| `double` rep|\n"
   ]
  },
  {
   "cell_type": "markdown",
   "id": "038ac7d2",
   "metadata": {},
   "source": [
    "Formula:\n",
    "- $value = (-1)^{signBit}$ × $1.[significandBits]$ × $2^{(expBits - bias)}$"
   ]
  },
  {
   "cell_type": "markdown",
   "id": "5a3ee486",
   "metadata": {},
   "source": [
    "## 12.4.2 Floating Point values IEEE 754 Compliant\n",
    "For `floats` are 32-bits or 4 bytes (usually, check with `sizeof`):\n",
    "- Any `float {420.59f}` declaring is stored in 32-bits of memory:\n",
    "- The standard have rules on the binary configuration of said type, split into 3 components:\n",
    "    - **signedness**: bitposn [0]       =  1-bits\n",
    "    - **exponent**:   bitposn [1-8]     =  8-bits\n",
    "    - **sig_cand**:   bitposn [9-31]    = 23-bits\n",
    "# IEEE 754 FP rep is 8 bits for the exponent."
   ]
  },
  {
   "cell_type": "code",
   "execution_count": 1,
   "id": "1ede7b9f",
   "metadata": {},
   "outputs": [
    {
     "name": "stdout",
     "output_type": "stream",
     "text": [
      "total values in 8 bits: 256\n",
      "total values in 8 bits: 256\n"
     ]
    }
   ],
   "source": [
    "print(f\"total values in 8 bits: {2**8}\")\n",
    "print(f\"total values in 8 bits: {2**8}\")"
   ]
  },
  {
   "cell_type": "markdown",
   "id": "d4575d3a",
   "metadata": {},
   "source": []
  },
  {
   "cell_type": "markdown",
   "id": "37519140",
   "metadata": {},
   "source": [
    "# 13. Conversion & Type Casting\n",
    "## 13.1 Implicit Conversion\n",
    "\n",
    "Imagine:\n",
    "- global: `void print_fn(double y){ cout(y) }`\n",
    "- main: `print_fn(5)`\n",
    "\n",
    "Notes on implicit conversion:\n",
    "- The conversion does not change `y` from type `int` to `double` \n",
    "    - nor the value of `y` from `5` to `5.0`.\n",
    "- The conversion uses the value of `y` (`5`) as **input**, \n",
    "    - and ***returns*** a **temporary object** of type `double` with value `5.0`. \n",
    "    - This **temporary object** is then **passed** to function `print_fn`.\n",
    "\n"
   ]
  },
  {
   "cell_type": "markdown",
   "id": "261dc1ac",
   "metadata": {},
   "source": []
  },
  {
   "cell_type": "markdown",
   "id": "f1a83bb9",
   "metadata": {},
   "source": []
  },
  {
   "cell_type": "markdown",
   "id": "0816621e",
   "metadata": {},
   "source": []
  },
  {
   "cell_type": "markdown",
   "id": "36ec6a1b",
   "metadata": {},
   "source": []
  },
  {
   "cell_type": "markdown",
   "id": "a78c2e18",
   "metadata": {},
   "source": []
  },
  {
   "cell_type": "markdown",
   "id": "3e922554",
   "metadata": {},
   "source": []
  },
  {
   "cell_type": "markdown",
   "id": "8ab10ea5",
   "metadata": {},
   "source": []
  },
  {
   "cell_type": "markdown",
   "id": "c7936862",
   "metadata": {},
   "source": []
  },
  {
   "cell_type": "markdown",
   "id": "de241c8c",
   "metadata": {},
   "source": [
    "# 15. `chars`\n",
    "\n",
    "\n"
   ]
  },
  {
   "cell_type": "markdown",
   "id": "cb876ba3",
   "metadata": {},
   "source": []
  },
  {
   "cell_type": "markdown",
   "id": "0f42ba3b",
   "metadata": {},
   "source": []
  },
  {
   "cell_type": "markdown",
   "id": "8b2aa764",
   "metadata": {},
   "source": []
  },
  {
   "cell_type": "markdown",
   "id": "775c2b5c",
   "metadata": {},
   "source": []
  },
  {
   "cell_type": "markdown",
   "id": "afdac119",
   "metadata": {},
   "source": []
  },
  {
   "cell_type": "markdown",
   "id": "65f66bda",
   "metadata": {},
   "source": []
  },
  {
   "cell_type": "markdown",
   "id": "3fa8de7d",
   "metadata": {},
   "source": []
  },
  {
   "cell_type": "markdown",
   "id": "51026aeb",
   "metadata": {},
   "source": []
  },
  {
   "cell_type": "markdown",
   "id": "911d63c7",
   "metadata": {},
   "source": []
  },
  {
   "cell_type": "markdown",
   "id": "bcea2b85",
   "metadata": {},
   "source": [
    "# 16. Type Conversion & `static_cast`\n",
    "# 17. Conclusion: Types Quiz\n"
   ]
  },
  {
   "cell_type": "markdown",
   "id": "f3c273d9",
   "metadata": {},
   "source": [
    "# 99. Miscellaneous & Optional\n",
    "## 99.1 `fast`\n",
    "`fast` types provide the **fastest** signed/unsigned integer type with a width of at least # bits (where # = 8, 16, 32, or 64)\n",
    "The fast types:\n",
    "- `std::int_fast#_t` and \n",
    "- `std::uint_fast#_t`\n",
    "\n",
    "E.g. `std::int_fast32_t` gives the\n",
    "- **fastest signed integer type** \n",
    "- at least **32-bits**. \n",
    "- i.e. integral type processed by CPU most quickly.\n"
   ]
  },
  {
   "cell_type": "markdown",
   "id": "4e4ca04c",
   "metadata": {},
   "source": [
    "## 99.2 `least`\n",
    "The least types provide the **smallest signed/unsigned integer** type with a width of at least # bits (where # = 8, 16, 32, or 64). \n",
    "\n",
    "Least types:\n",
    "- `std::int_least#_t`\n",
    "- `std::uint_least#_t`\n",
    "\n",
    "For example, `std::uint_least32_t` will give you\n",
    "- the smallest unsigned integer type \n",
    "- least 32-bits.\n",
    "\n",
    "Best Practice:\n",
    "- better to be **correct than fast**, and \n",
    "- better to **fail** at **compile time than runtime**"
   ]
  },
  {
   "cell_type": "markdown",
   "id": "7f64eda6",
   "metadata": {},
   "source": [
    "# 100. Research Later\n",
    "- `std::err` vs `std::cout`: in terms of buffering"
   ]
  }
 ],
 "metadata": {
  "kernelspec": {
   "display_name": ".venv",
   "language": "python",
   "name": "python3"
  },
  "language_info": {
   "codemirror_mode": {
    "name": "ipython",
    "version": 3
   },
   "file_extension": ".py",
   "mimetype": "text/x-python",
   "name": "python",
   "nbconvert_exporter": "python",
   "pygments_lexer": "ipython3",
   "version": "3.12.3"
  }
 },
 "nbformat": 4,
 "nbformat_minor": 5
}
