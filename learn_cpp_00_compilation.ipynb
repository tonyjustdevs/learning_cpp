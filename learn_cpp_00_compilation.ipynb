{
 "cells": [
  {
   "cell_type": "markdown",
   "id": "8fab4ce8",
   "metadata": {},
   "source": [
    "# 1. From `.cpp` to `.o` (object files)\n",
    "Running `g++ -c main.cpp`..."
   ]
  },
  {
   "cell_type": "markdown",
   "id": "5101b345",
   "metadata": {},
   "source": [
    "## 1.1 Parsing & Translation\n",
    "- Compiler ***parses*** source code into an **Abstract Syntax Tree** (AST)\n",
    "- Templates, inline functions, etc, are expanded/instantiated"
   ]
  },
  {
   "cell_type": "markdown",
   "id": "dfe3a156",
   "metadata": {},
   "source": [
    "## 1.2 Code Generation\n",
    "- Compiler ***translate***\n",
    "    - **high-level contructs** \n",
    "    - into **assembly** instructions (e.g. `mov`, `add`, `jmp`)\n",
    "    - for the **specific CPU**"
   ]
  },
  {
   "cell_type": "markdown",
   "id": "2e1600b3",
   "metadata": {},
   "source": [
    "## 1.3 Object File Structure: Structured Binary Format (SBF)\n",
    "- Object file **isnt** just raw assembly:\n",
    "    - it has binary machine code + metadata\n",
    "- Object file wrapped into a **Structured Binary Format**:\n",
    "    - `ELF` - Executable & Linkable Format - Linux, BSD\n",
    "    - `COFF/PE` - Portable Executable - Windows\n",
    "    - `Mach-O` - MacOS - macOS\n",
    "- Each **SBF** contains:\n",
    "    - `.text` - machine code for functions\n",
    "    - `.data/.bss` - global/static variables\n",
    "    - `relcation tables` - placeholders for addys not yet known (e.g. external functions)\n",
    "    - `symbol tables` - fn & variable names (for linking/debugging)"
   ]
  },
  {
   "cell_type": "markdown",
   "id": "732dba74",
   "metadata": {},
   "source": [
    "### 1.3.1 Standard Formats: Executable Files\n",
    "The .o (object) and final executables are not just random bytes.  \n",
    "\n",
    "They follow a **binary format** that ***OS knows how to read***. \n",
    "\n",
    "The **loader program** built into kernel, knows how to parse the format, the format defines:\n",
    "\n",
    "- where **machine code** is: `.text` section  \n",
    "- where **initialised data** is: `.data` section\n",
    "- where **unitialised data** is: `.bss` section\n",
    "- what **shared libraries** are needed: e.g. `libc.so` or `msvcrt.dll`\n",
    "- where **execution** starts: `entry point` e.g. `_start`"
   ]
  },
  {
   "cell_type": "markdown",
   "id": "7e568a2e",
   "metadata": {},
   "source": [
    "### 1.3.2 Loader (Inside the OS Kernel)\n",
    "\n",
    "Run in Linux `./program`:\n",
    "- Shell calls `execve() system call`: ask kernel replace current process image with a new program.\n",
    "- Kernel reads executable file header:\n",
    "\n",
    "### 2. ELF Loader\n",
    "### 2.1 ELF Magic Numbers: First 4 Bytes\n",
    "`ELF`, first 4 bytes are magic bytes tells OS it is an `ELF` file:\n",
    "\n",
    "- `7f` `45` `4c` `46` or \n",
    "- `7F 'E' 'L' 'F'`\n",
    "\n",
    "**Overall**: \n",
    "\n",
    "- Load code from offset `X` into mem_addy `Y`\n",
    "- Map `n` pages of writable memory for `.data`\n",
    "- Set `stack pointer` to here\n",
    "- Start **execution** at addy `Z`\n"
   ]
  },
  {
   "cell_type": "markdown",
   "id": "ef677ec0",
   "metadata": {},
   "source": [
    "### 2.2 ELF Header: After First 4 Bytes\n",
    "\n",
    "- At offset `0x18`, the loader reads the entry point address → that’s where it will set the instruction pointer (RIP) when starting the program.\n",
    "\n",
    "- At offset `0x20`, it learns where the program header table is → this table describes what memory mappings to create.\n",
    "\n",
    "\n",
    "- Fixed-Size Binary Struct, e.g. ELF64: \n",
    "\n",
    "| Offset | Size | Field                 | Meaning                                                |\n",
    "| ------ | ---- | --------------------- | ------------------------------------------------------ |\n",
    "| 0x00   | 4    | Magic (0x7FELF)       | File type marker                                       |\n",
    "| 0x04   | 1    | Class                 | 32-bit vs 64-bit                                       |\n",
    "| 0x05   | 1    | Endianness            | Little vs big endian                                   |\n",
    "| 0x10   | 2    | Type                  | Relocatable (o), Executable, Shared library, Core dump |\n",
    "| 0x12   | 2    | Machine               | e.g., x86-64 = `0x3E`                                  |\n",
    "| 0x18   | 8    | Entry point           | Address where execution starts                         |\n",
    "| 0x20   | 8    | Program header offset | Where to find load instructions                        |\n",
    "| 0x28   | 8    | Section header offset | Where to find symbols/debug info                       |\n",
    "| …      | …    | …                     | …                                                      |"
   ]
  },
  {
   "cell_type": "markdown",
   "id": "3565f90c",
   "metadata": {},
   "source": [
    "### 2.2 Program Header Table\n",
    "The program header table is like a recipe for the loader. Each entry describes one memory region to set up\n",
    "\n",
    "| Field  | Meaning                                                  |\n",
    "| ------ | -------------------------------------------------------- |\n",
    "| Type   | Is this LOAD, DYNAMIC, INTERP, NOTE, etc.?               |\n",
    "| Offset | File offset where this segment’s data lives              |\n",
    "| Vaddr  | Virtual memory address to map it at                      |\n",
    "| Filesz | How many bytes to copy from the file                     |\n",
    "| Memsz  | How many total bytes in memory (extra space gets zeroed) |\n",
    "| Flags  | Read/Write/Execute permissions                           |\n",
    "\n",
    "So an entry might say:\n",
    "\n",
    "“LOAD segment: take bytes 0x1000–0x1FFF from file, map them at virtual address 0x400000, mark them executable.” → that’s your .text (code) section.\n",
    "\n",
    "Another might say: “Take bytes at offset 0x2000–0x2FFF, map to memory at 0x600000, mark writable.” → your .data section.\n",
    "\n",
    "Another says: “Allocate memory of size 0x800 at 0x601000, zero it.” → your .bss section.\n"
   ]
  },
  {
   "cell_type": "markdown",
   "id": "216fba0d",
   "metadata": {},
   "source": [
    "### 1.3.3.1 `PE`Loader - Windows\n",
    "- `#!` or `PE` on Windows"
   ]
  },
  {
   "cell_type": "code",
   "execution_count": 28,
   "id": "17fe0e86",
   "metadata": {},
   "outputs": [
    {
     "data": {
      "text/plain": [
       "18446744073709551615"
      ]
     },
     "execution_count": 28,
     "metadata": {},
     "output_type": "execute_result"
    }
   ],
   "source": [
    "# Misc Python\n",
    "format(ord('E'),'x'),format(ord('L'),'x'),format(ord('F'),'x') # ltrs to hex\n",
    "2**32 - 1 # (32-bit) 8 General Purpose Registers (GPRs) - 4gb or  4294967295 bits.\n",
    "2**64 - 1 # (64-bit) 16 GPRs 64 bit int - 18446744073709551615, actually 48 lower bits used (still terabytes of addressable memory)\n",
    "\n",
    "# Each register can be accessed in multiple sizes:\n",
    "# RAX (64-bit), EAX (32-bit), AX (16-bit), AL (8-bit low), AH (8-bit high).\n",
    " \n",
    "# ctrl "
   ]
  },
  {
   "cell_type": "markdown",
   "id": "add65370",
   "metadata": {},
   "source": [
    "# 2. Linking `.o` -> Executable\n",
    "Running `g++ main.o other.o -o program`\n",
    "- Linker resolves symbols: \n",
    "    - replace placeholders with real memory addresses (where `printf` lives in `libc`)\n",
    "- Combines sections:\n",
    "    - merges `.text`, `.data`, etc from all object files\n",
    "- Produces executable:\n",
    "    - runnable file with code, data & startup routine\n",
    "        - `_start` -> ``main`"
   ]
  },
  {
   "cell_type": "markdown",
   "id": "bd78b939",
   "metadata": {},
   "source": [
    "# 3. Running The Program\n",
    "## 3.1 Loader (Part of OS)\n",
    "- Load executable into memory\n",
    "- Maps code (`.text`) into instruction memory ??\n",
    "- Maps data (`.data/.bss`) into RAM\n",
    "- Sets up **stack** & **heap**\n",
    "- Passes control into entry point (`_start`)\n",
    "## 3.2 Registers & Execution\n",
    "## 3.3 Instruction Set & CPU Bits\n",
    "\n"
   ]
  }
 ],
 "metadata": {
  "kernelspec": {
   "display_name": ".venv",
   "language": "python",
   "name": "python3"
  },
  "language_info": {
   "codemirror_mode": {
    "name": "ipython",
    "version": 3
   },
   "file_extension": ".py",
   "mimetype": "text/x-python",
   "name": "python",
   "nbconvert_exporter": "python",
   "pygments_lexer": "ipython3",
   "version": "3.12.3"
  }
 },
 "nbformat": 4,
 "nbformat_minor": 5
}
