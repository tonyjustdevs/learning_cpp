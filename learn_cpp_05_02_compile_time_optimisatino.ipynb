{
 "cells": [
  {
   "cell_type": "markdown",
   "id": "40fb97ce",
   "metadata": {},
   "source": [
    "# Compile-Time Optimisation"
   ]
  },
  {
   "cell_type": "markdown",
   "id": "9ba20d73",
   "metadata": {},
   "source": [
    "# 1. `as-if` rule\n"
   ]
  },
  {
   "cell_type": "markdown",
   "id": "9fb80f5e",
   "metadata": {},
   "source": [
    "The as-if rule:\n",
    "\n",
    "- compiler can modify a program \n",
    "- however it likes \n",
    "- to produce more optimized code\n",
    "- modifications do not affect a program’s \"**observable behavior**\"."
   ]
  },
  {
   "cell_type": "markdown",
   "id": "eb43128c",
   "metadata": {},
   "source": [
    "# 2. Optimisation Techniques\n",
    "\n",
    "|Optimisation Technique | Context | Original | Equivalent (to OG) & Becomes: |Laymens|\n",
    "|-|-|-|-|-|\n",
    "|Constant Folding|Expressions        |`int x { 3 + 4 };`|`int x { 7 };` | |\n",
    "|Constant Folding|Sub-expressions    |`cout << 3 + 4;`|`cout << 7;`||\n",
    "|Constant Propagation|Both    |`int x { 7 }`<br>`cout << x;`|`int x { 7 }`<br>`cout << 7;`|OG: Two memory access operations:<br>- storing<br>- fetching<br>Opt: Remove ***need*** for program to go to memory to fetch `x`|\n",
    "|Constant Folding and<br>Constant Propagation|Both    |`int x {3}; int x {7};`<br>`cout<<x+y;`|`cout<<3+7;` then<br>`cout<<10;`||\n",
    "|Dead Code Elimination|Both    |`int x { 7 };`|If `x` is unused in whole program,<br>the declaration expression is completely removed||\n",
    "|`const` Bariables|Both    |`int x { 7 };`|`const int x {7}` |helps compiler optimise more effectively<br>by providing certiainty `x` wont change|"
   ]
  },
  {
   "cell_type": "markdown",
   "id": "a9f52952",
   "metadata": {},
   "source": [
    "# 3. Constants in `C++` (informal categories)\n",
    "**Compile-Time Constant**: \n",
    "\n",
    "- A constant whose valuen is known at compile-time\n",
    "\n",
    "**Run-Time Constant**:\n",
    "\n",
    "- A constant whose value is determined in a runtime context\n",
    "\n",
    "**Unofficial Nomenclature Table of Constants**\n",
    "\n",
    "|Constant Category      | Examples  | \n",
    "|-|-|\n",
    "|Compile-Time Constant  | Literals                                                                              |\n",
    "|Compile-Time Constant  | Constant Objects whose initialisers are <br>- compile time constants                  |\n",
    "|Run-Time Constant      | Constant function<br>- parameters| |A constant whose value<br>is known at run-time    |\n",
    "|Run-Time Constant      | Constant objects whose initialisers are<br>- non-constants or<br>- runtime constants  |"
   ]
  }
 ],
 "metadata": {
  "kernelspec": {
   "display_name": ".venv",
   "language": "python",
   "name": "python3"
  },
  "language_info": {
   "name": "python",
   "version": "3.12.3"
  }
 },
 "nbformat": 4,
 "nbformat_minor": 5
}
