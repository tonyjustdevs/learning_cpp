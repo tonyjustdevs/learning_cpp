{
 "cells": [
  {
   "cell_type": "markdown",
   "id": "ad069ff7",
   "metadata": {},
   "source": [
    "# 1. Floating Point Type\n",
    "The **precision** of a floating point type defines:  \n",
    "\n",
    "- how *many* **significant digits** it can represent *without information loss*.\n",
    "\n",
    "|type|bytes|precision|\n",
    "|-|-|-|\n",
    "|`float`|$4$|Typically $7$|\n",
    "|`double`|$8$|Typically $16$|"
   ]
  },
  {
   "cell_type": "markdown",
   "id": "310f977a",
   "metadata": {
    "vscode": {
     "languageId": "plaintext"
    }
   },
   "source": [
    "# 2. `std::cout` \n",
    "- `std::cout`: default precision of 6\n",
    "- `std::setprecision(n)` to set precision via `<iomanip>` header"
   ]
  },
  {
   "cell_type": "markdown",
   "id": "11584816",
   "metadata": {},
   "source": [
    "# 3. **IEEE-754 binary64**\n",
    "A `double` in C++ follows the IEEE-754 binary64 standard, which has:\n",
    "- `1` sign bit\n",
    "- `11` exponent bits\n",
    "- `52` fraction bits (≈ 15–17 decimal digits of precision)\n",
    "\n",
    "or Bit Form: \n",
    "- $signBit[1]-exponentBits[1][2][3][4][5][6][7][8][9][10][11]-fractionBits[1][2]...[52]$\n",
    "\n",
    "This means it cannot store every decimal number exactly:\n",
    "\n",
    "- only those that have a finite representation in binary."
   ]
  },
  {
   "cell_type": "markdown",
   "id": "8dcabdc9",
   "metadata": {},
   "source": [
    "# 4. **Fraction To Binary** Conversion Algorithm\n",
    "### 4.1 Fraction Basics\n",
    "\n",
    "Whether that fraction has a:\n",
    "\n",
    "- **finite** *expansion* (ends cleanly, like 0.25) or \n",
    "- an **infinite** *repeating expansion* (like 0.333…) depends on the base you are using."
   ]
  },
  {
   "cell_type": "markdown",
   "id": "fbf782f3",
   "metadata": {},
   "source": []
  },
  {
   "cell_type": "markdown",
   "id": "b71dda00",
   "metadata": {},
   "source": []
  },
  {
   "cell_type": "markdown",
   "id": "457e6329",
   "metadata": {},
   "source": []
  },
  {
   "cell_type": "markdown",
   "id": "eb973ab4",
   "metadata": {},
   "source": []
  },
  {
   "cell_type": "markdown",
   "id": "1b113bd4",
   "metadata": {},
   "source": []
  },
  {
   "cell_type": "markdown",
   "id": "fc4448df",
   "metadata": {},
   "source": []
  },
  {
   "cell_type": "markdown",
   "id": "90b0c4d5",
   "metadata": {},
   "source": []
  },
  {
   "cell_type": "markdown",
   "id": "c554921b",
   "metadata": {},
   "source": [
    "# To Build:\n",
    "- Program 1: Show how **information is loss** (for a large number) via cout, when:\n",
    "    - cout via default precision\n",
    "    - cout via set precision\n",
    "- Program 2: Show **rounding error** (for a large number) via cout, when:\n",
    "    - declare `float` variable with 8+ significant figures (note `float` accurate to typically 7)\n",
    "    - print variable via default precision\n",
    "    - print variable via setprecision(8+) to see information loss\n",
    "- Program 3: Fraction to Binary (Base-2) Convertor\n",
    "    - Fraction to hex? (16-bit)\n",
    "    - Fraction to n-ary? (n-bit)"
   ]
  },
  {
   "cell_type": "markdown",
   "id": "847afa2a",
   "metadata": {},
   "source": []
  },
  {
   "cell_type": "markdown",
   "id": "45c7630e",
   "metadata": {},
   "source": []
  },
  {
   "cell_type": "markdown",
   "id": "fb7a7bad",
   "metadata": {},
   "source": []
  },
  {
   "cell_type": "markdown",
   "id": "17f7f644",
   "metadata": {},
   "source": []
  }
 ],
 "metadata": {
  "kernelspec": {
   "display_name": ".venv",
   "language": "python",
   "name": "python3"
  },
  "language_info": {
   "codemirror_mode": {
    "name": "ipython",
    "version": 3
   },
   "file_extension": ".py",
   "mimetype": "text/x-python",
   "name": "python",
   "nbconvert_exporter": "python",
   "pygments_lexer": "ipython3",
   "version": "3.12.3"
  }
 },
 "nbformat": 4,
 "nbformat_minor": 5
}
