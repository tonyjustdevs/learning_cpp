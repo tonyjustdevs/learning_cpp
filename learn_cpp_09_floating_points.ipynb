{
 "cells": [
  {
   "cell_type": "markdown",
   "id": "ad069ff7",
   "metadata": {},
   "source": [
    "# 1. Floating Point Type\n",
    "The **precision** of a floating point type defines:  \n",
    "\n",
    "- how *many* **significant digits** it can represent *without information loss*.\n",
    "\n",
    "|type|bytes|precision|\n",
    "|-|-|-|\n",
    "|`float`|$4$|Typically $7$|\n",
    "|`double`|$8$|Typically $16$|"
   ]
  },
  {
   "cell_type": "markdown",
   "id": "310f977a",
   "metadata": {
    "vscode": {
     "languageId": "plaintext"
    }
   },
   "source": [
    "# 2. `std::cout` \n",
    "- `std::cout`: default precision of 6\n",
    "- `std::setprecision[n]` to set precision via `<iomanip>` header"
   ]
  },
  {
   "cell_type": "markdown",
   "id": "11584816",
   "metadata": {},
   "source": [
    "# 3. **IEEE-754 binary64**\n",
    "A `double` in C++ follows the IEEE-754 binary64 standard, which has:\n",
    "- `1` sign bit\n",
    "- `11` exponent bits\n",
    "- `52` fraction bits [≈ 15–17 decimal digits of precision]\n",
    "\n",
    "or Bit Form: \n",
    "- $signBit[1]-exponentBits[1][2][3][4][5][6][7][8][9][10][11]-fractionBits[1][2]...[52]$\n",
    "\n",
    "This means it cannot store every decimal number exactly:\n",
    "\n",
    "- only those that have a finite representation in binary."
   ]
  },
  {
   "cell_type": "markdown",
   "id": "b5c247f9",
   "metadata": {},
   "source": [
    "# 4. Base 10, Base 3 & Base n \n",
    "In **Base 10**, fractional \"building blocks\" are [Denominators are powers of 10]:\n",
    "\n",
    "$$\\frac{1}{10}, \\frac{1}{100}, \\frac{1}{1000}... $$\n",
    "\n",
    "In **Base 3**, fractional \"building blocks\" are [Denominators are powers of 3]:\n",
    "\n",
    "$$\\frac{1}{3}, \\frac{1}{9}, \\frac{1}{27}... $$\n",
    "\n"
   ]
  },
  {
   "cell_type": "markdown",
   "id": "01456dbd",
   "metadata": {},
   "source": [
    "## What is $\\frac{1}{5}$ in **Base 10**?\n",
    "In **base 10**:\n",
    "\n",
    "$$\\frac{1}{5} = 0.d_1d_2d_3...$$\n",
    "equivalent to:\n",
    "$$\\frac{1}{5} = \\frac{d_1}{10^{1}}+\\frac{d_2}{10^{2}}+\\frac{d_3}{10^{3}}...$$\n",
    "$$\\frac{1}{5} = \\frac{d_1}{10}+\\frac{d_2}{100}+\\frac{d_3}{1000}...$$\n",
    "\n",
    "or The fraction $f$:\n",
    "\n",
    "$$f = \\frac{d_1}{10}+\\frac{d_2}{100}+\\frac{d_3}{1000}...$$\n",
    "\n"
   ]
  },
  {
   "cell_type": "markdown",
   "id": "a926c170",
   "metadata": {},
   "source": [
    "Find $d1, d2, d3...$\n",
    "\n",
    "Multiply by the **base 10**:\n",
    "\n",
    "$$f = {d_1} +\\frac{d_2}{10}+\\frac{d_3}{100}...$$\n",
    "\n",
    "This is a new number:\n",
    "- with $d_1$ as the integer [number before decimal] \n",
    "- with $d_2d_3d_4...$ as the fractional components\n",
    "$$f = d_1.d_2d_3d_4...$$\n",
    "\n"
   ]
  },
  {
   "cell_type": "markdown",
   "id": "ae7e1f8f",
   "metadata": {},
   "source": [
    "Back to the example, $\\frac{1}{5}$ in **Base 10**:\n",
    "\n",
    "$$\\frac{1}{5} = \\frac{d_1}{10}+\\frac{d_2}{100}+\\frac{d_3}{1000}+...$$"
   ]
  },
  {
   "cell_type": "markdown",
   "id": "df470c49",
   "metadata": {},
   "source": [
    "Multiple by base, or $10$:\n",
    "\n",
    "$$10\\times\\frac{1}{5} = 10\\times\\frac{d_1}{10}+10\\times\\frac{d_2}{100}+10\\times\\frac{d_3}{1000}+...$$\n"
   ]
  },
  {
   "cell_type": "markdown",
   "id": "f8979b22",
   "metadata": {},
   "source": [
    "$$2.0 = d_1+\\frac{d_2}{10}+\\frac{d_3}{100}+...$$"
   ]
  },
  {
   "cell_type": "markdown",
   "id": "a3c04835",
   "metadata": {},
   "source": [
    "Since d1, d2... are whole integers\n",
    "\n",
    "$$\\therefore 2.0 = \\frac{d_1}{10^{0}} =d_1$$\n",
    "$$0.0=\\frac{d_2}{10^{1}}+\\frac{d_3}{10^{2}}+...\\frac{d_n}{10^{n-1}}$$\n",
    "\n"
   ]
  },
  {
   "cell_type": "markdown",
   "id": "9464e5ec",
   "metadata": {},
   "source": [
    "##### 1/5 at base 10\n",
    "1/5 = 0.d1d2d3  \n",
    "1/5 = d1/10 + d2/100 + ...  \n",
    "10*1/5 = d1 + d2/10 + ...  \n",
    "2.0000 = d1 + d2/10 + ...\n",
    "therefore d1 = 2, d2/10+d3/100+... = 0.0000\n",
    "\n",
    "1/5 = 0.2000  "
   ]
  },
  {
   "cell_type": "markdown",
   "id": "83ec1713",
   "metadata": {},
   "source": [
    "##### 1/3 at base 3\n",
    "let 1/3 = 0.d1d2d3  \n",
    "1/3 = d1/3 + d2/9 + d3/27 +...   \n",
    "[3*]1/3 = [3*]d1/3 + [3*]d2/9 + [3*]d3/27 +...   \n",
    "1 = d1 + d2/3+ d3/9 +...   [recall d1..dn are whole integers]\n",
    "therefore d1 = 1, d2/3+d3/9+... = 0\n",
    "\n",
    "let 1/3 = 0.100 in base 3\n"
   ]
  },
  {
   "cell_type": "markdown",
   "id": "96b2c8b7",
   "metadata": {},
   "source": [
    "##### 1/5 at base 2\n",
    "let 1/5 = 0.d1d2d3..  \n",
    "1/5     = d1/2      + d2/4      + d3/8      + d4/16 ...\n",
    "[2]*1/5 = [2]*d1/2  + [2]*d2/4  + [2]*d3/8  + ...  \n",
    "2/5     = d1        + d2/2      + d3/4      + d4/8...  \n",
    "0.4     = d1        + d2/2      + d3/4      + d4/8...  \n",
    "\n",
    "if f > 1 then f=f-1,\n",
    "else f\n",
    "therefore d1 = 0  <------------------------------------- d1 = 0\n",
    "\n",
    "0.4     = 0 + d2/2  + d3/4      + d4/8...  \n",
    "0.4     =   + d2/2  + d3/4      + d4/8...  \n",
    "[2*]0.4 =   d2      + [2*]d3/4  + [2*]d4/8...  \n",
    "0.8     =   d2      + d3/2      + d4/4      + d5/8  + d6/16...  \n",
    "0.8     =   0       + d3/2      + d4/4      + d5/8  + d6/16... <--------------- d2 = 0\n",
    "\n",
    "[2*]0.8 = [2*]d3/2  + [2*]d4/4  + [2*]d5/8  + [2*]d6/16...  \n",
    "1.6     = [2*]d3/2  + [2*]d4/4  + [2*]d5/8  + [2*]d6/16... \n",
    "1.6     = d3        + d4/2      + d5/4      + d6/8...\n",
    "\n",
    "d3      = 1, \n",
    "0.6     = d4/2      + d5/4      + d6/8      + d7/16 <------------------- d3 = 1\n",
    "1.2     = d4        + d5/2      + d6/4      + d7/8\n",
    "\n",
    "1/5 in base 2 = 0.0011  ...  \n",
    "1/5 in base 2 = 0.001100110011..._2 [repeats forever].  "
   ]
  },
  {
   "cell_type": "code",
   "execution_count": null,
   "id": "d5d4cd11",
   "metadata": {},
   "outputs": [
    {
     "name": "stdout",
     "output_type": "stream",
     "text": [
      "1 0.4\n",
      "2 0.8\n",
      "3 0.6000000000000001\n",
      "4 0.20000000000000018\n",
      "5 0.40000000000000036\n",
      "6 0.8000000000000007\n",
      "7 0.6000000000000014\n",
      "8 0.20000000000000284\n",
      "9 0.4000000000000057\n",
      "10 0.8000000000000114\n",
      "11 0.6000000000000227\n",
      "12 0.20000000000004547\n",
      "['0', '0', '1', '1', '0', '0', '1', '1', '0', '0', '1', '1']\n",
      "001100110011\n"
     ]
    }
   ],
   "source": [
    "# write a script to calculate 1/5 in base 2\n",
    "base_2 = 2\n",
    "f = 1/5\n",
    "fraction_result = [];\n",
    "fraction_chr = \"\";\n",
    "for i in range[1,13]:\n",
    "    # f=1/5\n",
    "    f=f*2\n",
    "    if f>=1:\n",
    "        f-=1\n",
    "        fraction_result.append['1']\n",
    "        fraction_chr+='1'\n",
    "        next\n",
    "    else:\n",
    "        fraction_result.append['0']\n",
    "        fraction_chr+='0'\n",
    "    print[i, f]\n",
    "\n",
    "print[fraction_result]\n",
    "print[fraction_chr]"
   ]
  },
  {
   "cell_type": "markdown",
   "id": "00586d6b",
   "metadata": {},
   "source": [
    "# 4. Base 10, Base 3 & Base n \n",
    "In **Base 10**, fractional \"building blocks\" are [Denominators are powers of 10]:\n",
    "\n",
    "$$\\frac{1}{10}, \\frac{1}{100}, \\frac{1}{1000}... $$\n",
    "\n",
    "In **Base 3**, fractional \"building blocks\" are [Denominators are powers of 3]:\n",
    "\n",
    "$$\\frac{1}{3}, \\frac{1}{9}, \\frac{1}{27}... $$\n",
    "\n"
   ]
  },
  {
   "cell_type": "markdown",
   "id": "864c884a",
   "metadata": {},
   "source": []
  },
  {
   "cell_type": "markdown",
   "id": "82886048",
   "metadata": {},
   "source": [
    "# 5. Decimal Fractions, Binary Fractions\n",
    "## 5.1 Decimal Fractions\n",
    "In decimal, base 10, decimal point is used:\n",
    "\n",
    "$$\n",
    "\\begin{array}{rcl}\n",
    "0.2   & = &  \\Bigg[2\\times\\frac{1}{10^{1}}\\Bigg] \\\\\n",
    "0.25  & = &  \\Bigg[2\\times\\frac{1}{10^{1}}\\Bigg] + \\Bigg[5\\times\\frac{1}{10^{2}}\\Bigg] \\\\\n",
    "0.123 & = &  \\Bigg[1\\times\\frac{1}{10^{1}}\\Bigg] + \\Bigg[2\\times\\frac{1}{10^{2}}\\Bigg]  + \\Bigg[3\\times\\frac{1}{10^{2}}\\Bigg]\\\\\n",
    "\\end{array}\n",
    "$$"
   ]
  },
  {
   "cell_type": "markdown",
   "id": "25e27698",
   "metadata": {},
   "source": [
    "## 5.2 Binary Fractions\n",
    "In binary, base 2, binary point is used:\n",
    "$$ \n",
    "\\begin{array}{rcl}\n",
    "\n",
    "Recall:\n",
    "0.d_1d_2d_3d_4 & =  & \\displaystyle \n",
    "                      \\Bigg[\\frac{d_1}{2^{1}}\\Bigg] \n",
    "                    + \\Bigg[\\frac{d_2}{2^{2}}\\Bigg] \n",
    "                    + \\Bigg[\\frac{d_3}{2^{3}}\\Bigg] + ... \n",
    "\n",
    "\\end{array}\n",
    "$$\n",
    "\n"
   ]
  },
  {
   "cell_type": "markdown",
   "id": "4b4399c3",
   "metadata": {},
   "source": [
    "$$\n",
    "\\begin{array}{rcl}\n",
    "0.1     & = &   \\Bigg[1\\times\\frac{1}{2^{1}}\\Bigg] &&&&&&& = &   \\Bigg[0.5\\Bigg] \\\\\n",
    "                \\\\\n",
    "0.01    & = &   \\Bigg[0\\times\\frac{1}{2^{1}}\\Bigg] &+& \\Bigg[1\\times\\frac{1}{2^{2}}\\Bigg] \\\\\n",
    "        & = &   \\Bigg[0\\Bigg] &+& \\Bigg[0.25\\Bigg] &&&&&=& \\Bigg[0.25\\Bigg] \\\\\n",
    "                \\\\\n",
    "0.11    & = &   \\Bigg[0\\times\\frac{1}{2^{1}}\\Bigg] &+& \\Bigg[1\\times\\frac{1}{2^{2}}\\Bigg] \\\\\n",
    "        & = &   \\Bigg[0.5\\Bigg] &+& \\Bigg[0.25\\Bigg]&&&&&=& \\Bigg[0.75\\Bigg] \\\\\n",
    "                \\\\\n",
    "0.001   & = &   \\Bigg[0\\times\\frac{1}{2^{1}}\\Bigg] &+& \\Bigg[0\\times\\frac{1}{2^{2}}\\Bigg] \n",
    "                &+& \\Bigg[1\\times\\frac{1}{2^{3}}\\Bigg] &=&\\Bigg[1\\times\\frac{1}{8}\\Bigg]    \n",
    "        % \\\\\n",
    "        % & = &   \\Bigg[0\\Bigg] &+& \\Bigg[0\\Bigg] \n",
    "        % &+& \\Bigg[0.125\\Bigg]\n",
    "        &=& \\Bigg[0.125\\Bigg]    \\\\\n",
    "                \\\\\n",
    "0.011   & = &   \\Bigg[0\\times\\frac{1}{2^{1}}\\Bigg] &+& \\Bigg[1\\times\\frac{1}{2^{2}}\\Bigg] &+& \\Bigg[1\\times\\frac{1}{2^{3}}\\Bigg] \\\\\n",
    "        & = &   \\Bigg[0\\Bigg] &+& \\Bigg[1\\times\\frac{1}{4}\\Bigg] &+& \\Bigg[1\\times\\frac{1}{8}\\Bigg] \\\\\n",
    "        & = &   \\Bigg[0\\Bigg] &+& \\Bigg[0.25\\Bigg] &+& \\Bigg[0.125\\Bigg]&&&=& \\Bigg[0.375\\Bigg]    \\\\\n",
    "                \\\\\n",
    "0.111   & = &   \\Bigg[1\\times\\frac{1}{2^{1}}\\Bigg] &+& \\Bigg[1\\times\\frac{1}{2^{2}}\\Bigg] &+& \\Bigg[1\\times\\frac{1}{2^{3}}\\Bigg] \\\\\n",
    "        & = &   \\Bigg[1\\times\\frac{1}{2}\\Bigg] &+& \\Bigg[1\\times\\frac{1}{4}\\Bigg] &+& \\Bigg[1\\times\\frac{1}{8}\\Bigg] \\\\\n",
    "        & = &   \\Bigg[0.5\\Bigg] &+& \\Bigg[0.25\\Bigg] &+& \\Bigg[0.125\\Bigg]&&&=& \\Bigg[0.875\\Bigg]    \\\\\n",
    "                \\\\\n",
    "\n",
    "\n",
    "0.1111  & = &   \\Bigg[0.875\\Bigg] &+& \\Bigg[1\\times\\frac{1}{16}\\Bigg] &=& \\Bigg[0.875\\Bigg]&+&\\Bigg[0.0625\\Bigg]&=&\\Bigg[0.9375\\Bigg]\n",
    "\\end{array}\n",
    "$$\n"
   ]
  },
  {
   "cell_type": "markdown",
   "id": "0d0ca5b9",
   "metadata": {},
   "source": [
    "# Bias\n",
    "In $64$-bit IEEE-$754$ format:\n",
    "- $1$ bit: Sign\n",
    "- $11$ bits: Exponent\n",
    "- $52$ bits: Mantissa\n",
    "= $1 + 11 + 52 = 64$ bits"
   ]
  },
  {
   "cell_type": "markdown",
   "id": "69cc0387",
   "metadata": {},
   "source": [
    "# What is $11$ bits?\n",
    "$2^{11}$ means:\n",
    "\n",
    "- $2048$ values to store our exponents or \n",
    "- $2048$ different bit patterns\n",
    "\n",
    "Exponents can be zero, negative or positive. To balance it out, store half positive and half negative, ie:\n",
    "\n",
    "- Positive Exponents (1024 values): $[0,1023]$\n",
    "- Negative Exponents (1024 values): $[-1,-1024]$\n",
    "\n",
    "But we can't (easily) store negative values, so lets map:\n",
    "\n",
    "- $[-1024,+1023]$ to\n",
    "- $[+0, +2047]$\n",
    "\n",
    "\n",
    "\n",
    "\n"
   ]
  },
  {
   "cell_type": "code",
   "execution_count": null,
   "id": "c91e04c0",
   "metadata": {},
   "outputs": [
    {
     "data": {
      "text/plain": [
       "'0b1111111100'"
      ]
     },
     "execution_count": 3,
     "metadata": {},
     "output_type": "execute_result"
    }
   ],
   "source": [
    "# [1023]\n",
    "\n",
    "bin(1020) # == int(0b1111111100)"
   ]
  },
  {
   "cell_type": "code",
   "execution_count": null,
   "id": "dab187d8",
   "metadata": {},
   "outputs": [
    {
     "data": {
      "text/plain": [
       "1020"
      ]
     },
     "execution_count": 5,
     "metadata": {},
     "output_type": "execute_result"
    }
   ],
   "source": []
  },
  {
   "cell_type": "code",
   "execution_count": null,
   "id": "0c5b58a0",
   "metadata": {},
   "outputs": [],
   "source": [
    "# int to bin\n",
    "# binary_str = bin(42)        # Returns '0b101010'\n",
    "# binary_str = format(42, 'b')    # no_padding '101010'\n",
    "# binary_str = format(42, '08b')  # 8b_padding '00101010' \n",
    "\n",
    "# bin to int\n",
    "bin_4bit_str = \"0100\"\n",
    "bin_8bit_str = bin_4bit_str.zfill(8)\n",
    "\n",
    "# bin_8bit_str\n",
    "int(bin_8bit_str,2)\n",
    "int_value = int(bin_4bit_str, 2)\n",
    "\n"
   ]
  },
  {
   "cell_type": "code",
   "execution_count": 27,
   "id": "2fe32f73",
   "metadata": {},
   "outputs": [
    {
     "data": {
      "text/plain": [
       "11"
      ]
     },
     "execution_count": 27,
     "metadata": {},
     "output_type": "execute_result"
    }
   ],
   "source": [
    "def bit_not(n, numbits=8):\n",
    "    return (1 << numbits) - 1 - n\n",
    "bit_not(4, numbits=4)"
   ]
  },
  {
   "cell_type": "code",
   "execution_count": 23,
   "id": "c19d268f",
   "metadata": {},
   "outputs": [
    {
     "data": {
      "text/plain": [
       "11"
      ]
     },
     "execution_count": 23,
     "metadata": {},
     "output_type": "execute_result"
    }
   ],
   "source": [
    "binary_str = \"0100\"\n",
    "width = len(binary_str)\n",
    "\n",
    "# Convert to integer and apply NOT\n",
    "int_value = int(binary_str, 2)\n",
    "# Apply NOT within fixed width (mask to simulate unsigned behavior)\n",
    "mask = (1 << width) - 1\n",
    "not_result = (~int_value) & mask\n",
    "not_result"
   ]
  },
  {
   "cell_type": "code",
   "execution_count": 32,
   "id": "744c56e8",
   "metadata": {},
   "outputs": [
    {
     "name": "stdout",
     "output_type": "stream",
     "text": [
      "pre-4-bit padding s: 0100\n",
      "pos-4-bit padding s: 0100\n",
      "Binary string: 0100\n",
      "As integer: 4\n",
      "Bitwise NOT: 1011 (integer: 11 )\n"
     ]
    }
   ],
   "source": [
    "# gpt\n",
    "s               = \"0100\"  \n",
    "n_bits          = 4\n",
    "print(f\"pre-{n_bits}-bit padding s: {s}\")\n",
    "s               = s.zfill(n_bits)\n",
    "print(f\"pos-{n_bits}-bit padding s: {s}\")\n",
    "n               = int(s, 2)  # get value via binary\n",
    "bit_length      = len(s)\n",
    "mask            = (1 << bit_length) - 1 # wip to learn\n",
    "not_n           = (~n) & mask\n",
    "not_s           = bin(not_n)[2:].zfill(bit_length)\n",
    "print(\"Binary string:\", s)\n",
    "print(\"As integer:\", n)\n",
    "print(\"Bitwise NOT:\", not_s, \"(integer:\", not_n, \")\")\n",
    "# int(\"1011\",2)\n",
    "# int(\"11111011\",2)\n"
   ]
  },
  {
   "cell_type": "code",
   "execution_count": 18,
   "id": "a91d19d0",
   "metadata": {},
   "outputs": [
    {
     "data": {
      "text/plain": [
       "251"
      ]
     },
     "execution_count": 18,
     "metadata": {},
     "output_type": "execute_result"
    }
   ],
   "source": []
  },
  {
   "cell_type": "markdown",
   "id": "d61088d2",
   "metadata": {},
   "source": []
  },
  {
   "cell_type": "markdown",
   "id": "18c61841",
   "metadata": {},
   "source": []
  },
  {
   "cell_type": "markdown",
   "id": "35aba4b0",
   "metadata": {},
   "source": []
  },
  {
   "cell_type": "markdown",
   "id": "00e0853d",
   "metadata": {},
   "source": []
  },
  {
   "cell_type": "markdown",
   "id": "4affd1c3",
   "metadata": {},
   "source": []
  },
  {
   "cell_type": "markdown",
   "id": "fbf782f3",
   "metadata": {},
   "source": []
  },
  {
   "cell_type": "markdown",
   "id": "b71dda00",
   "metadata": {},
   "source": []
  },
  {
   "cell_type": "markdown",
   "id": "457e6329",
   "metadata": {},
   "source": []
  },
  {
   "cell_type": "markdown",
   "id": "eb973ab4",
   "metadata": {},
   "source": []
  },
  {
   "cell_type": "markdown",
   "id": "1b113bd4",
   "metadata": {},
   "source": []
  },
  {
   "cell_type": "markdown",
   "id": "fc4448df",
   "metadata": {},
   "source": []
  },
  {
   "cell_type": "markdown",
   "id": "90b0c4d5",
   "metadata": {},
   "source": []
  },
  {
   "cell_type": "markdown",
   "id": "c554921b",
   "metadata": {},
   "source": [
    "# To Build:\n",
    "- Program 1: Show how **information is loss** [for a large number] via cout, when:\n",
    "    - cout via default precision\n",
    "    - cout via set precision\n",
    "- Program 2: Show **rounding error** [for a large number] via cout, when:\n",
    "    - declare `float` variable with 8+ significant figures [note `float` accurate to typically 7]\n",
    "    - print variable via default precision\n",
    "    - print variable via setprecision[8+] to see information loss\n",
    "- Program 3: Fraction to Binary [Base-2] Convertor\n",
    "    - Fraction to hex? [16-bit]\n",
    "    - Fraction to n-ary? [n-bit]"
   ]
  },
  {
   "cell_type": "markdown",
   "id": "847afa2a",
   "metadata": {},
   "source": []
  },
  {
   "cell_type": "markdown",
   "id": "45c7630e",
   "metadata": {},
   "source": []
  },
  {
   "cell_type": "markdown",
   "id": "fb7a7bad",
   "metadata": {},
   "source": []
  },
  {
   "cell_type": "markdown",
   "id": "17f7f644",
   "metadata": {},
   "source": []
  }
 ],
 "metadata": {
  "kernelspec": {
   "display_name": ".venv",
   "language": "python",
   "name": "python3"
  },
  "language_info": {
   "codemirror_mode": {
    "name": "ipython",
    "version": 3
   },
   "file_extension": ".py",
   "mimetype": "text/x-python",
   "name": "python",
   "nbconvert_exporter": "python",
   "pygments_lexer": "ipython3",
   "version": "3.12.3"
  }
 },
 "nbformat": 4,
 "nbformat_minor": 5
}
